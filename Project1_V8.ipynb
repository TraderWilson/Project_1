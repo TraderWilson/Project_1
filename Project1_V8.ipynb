{
 "cells": [
  {
   "cell_type": "markdown",
   "id": "343756fd-fbf1-4cbf-8942-e1947efb268c",
   "metadata": {
    "jp-MarkdownHeadingCollapsed": true,
    "tags": []
   },
   "source": [
    "# 1. Install Packages"
   ]
  },
  {
   "cell_type": "code",
   "execution_count": null,
   "id": "3aabcc8a-2a23-4a6d-a656-836697429cd3",
   "metadata": {
    "tags": []
   },
   "outputs": [],
   "source": [
    "import pandas as pd\n",
    "import numpy as np\n",
    "import yfinance as yf\n",
    "import hvplot.pandas\n",
    "import seaborn as sns\n",
    "import matplotlib.pyplot as plt"
   ]
  },
  {
   "cell_type": "markdown",
   "id": "17222b9a-3759-4623-baa9-dbb4a024cdbe",
   "metadata": {
    "jp-MarkdownHeadingCollapsed": true,
    "tags": []
   },
   "source": [
    "# 2. Set up the Global Parameters"
   ]
  },
  {
   "cell_type": "markdown",
   "id": "f70bce06-1b7f-4709-8fb6-b14a363e0493",
   "metadata": {
    "jp-MarkdownHeadingCollapsed": true,
    "tags": []
   },
   "source": [
    "## 2.1 Filter Out Stocks By Volume"
   ]
  },
  {
   "cell_type": "code",
   "execution_count": null,
   "id": "b75d87a2-a99e-4d42-9401-43d910a816b1",
   "metadata": {
    "tags": []
   },
   "outputs": [],
   "source": [
    "# Fetch full stocks information from csv, which is downloaded from https://www.nasdaq.com/market-activity/stocks/screener\n",
    "\n",
    "full_stocks = pd.read_csv('Resource/stocks_list.csv')\n",
    "full_stocks"
   ]
  },
  {
   "cell_type": "code",
   "execution_count": null,
   "id": "3066a601-e7f7-436a-b84a-4e432591c533",
   "metadata": {
    "tags": []
   },
   "outputs": [],
   "source": [
    "# The Volume Distribution is positive skew\n",
    "\n",
    "full_stocks['Volume'].hvplot.hist(bins = 100000, title = 'Volume Distribution').opts(xformatter = '%.0f')"
   ]
  },
  {
   "cell_type": "code",
   "execution_count": null,
   "id": "86c33912-6b86-4fe0-885b-3e8644af3a1b",
   "metadata": {
    "tags": []
   },
   "outputs": [],
   "source": [
    "full_stocks['Volume'].median()"
   ]
  },
  {
   "cell_type": "code",
   "execution_count": null,
   "id": "db6d1214-59c4-43f2-b542-59b6d2fd0299",
   "metadata": {
    "tags": []
   },
   "outputs": [],
   "source": [
    "full_stocks['Volume'].mean()"
   ]
  },
  {
   "cell_type": "code",
   "execution_count": null,
   "id": "3001d45d-92af-4c1c-93e2-d5f4203e9a40",
   "metadata": {
    "tags": []
   },
   "outputs": [],
   "source": [
    "# Check the data\n",
    "\n",
    "full_stocks.info()"
   ]
  },
  {
   "cell_type": "code",
   "execution_count": null,
   "id": "594da424-4917-4273-843e-401d12e5ef2d",
   "metadata": {
    "tags": []
   },
   "outputs": [],
   "source": [
    "# There is only 1 NaN in the Symbol column\n",
    "\n",
    "full_stocks.isnull().sum()"
   ]
  },
  {
   "cell_type": "code",
   "execution_count": null,
   "id": "af10b858-5cfc-48f8-9946-cfa46f6d83e0",
   "metadata": {
    "tags": []
   },
   "outputs": [],
   "source": [
    "# Filter out stocks as Volume greater than median of the distribution\n",
    "\n",
    "filter_stocks = full_stocks[full_stocks['Volume'] >= full_stocks['Volume'].quantile(0.5)]\n",
    "filter_stocks"
   ]
  },
  {
   "cell_type": "code",
   "execution_count": null,
   "id": "d9fd57b6-ea56-4a77-8806-a880c5522636",
   "metadata": {
    "tags": []
   },
   "outputs": [],
   "source": [
    "# Check the filtered data again\n",
    "\n",
    "filter_stocks.isnull().sum()"
   ]
  },
  {
   "cell_type": "code",
   "execution_count": null,
   "id": "d24d800d-7f83-4ab1-99fc-5710e2790180",
   "metadata": {
    "tags": []
   },
   "outputs": [],
   "source": [
    "# Get tickers from the DataFrame\n",
    "\n",
    "assets = [symbol for symbol in filter_stocks['Symbol'].tolist()]\n",
    "assets.sort()\n",
    "\n",
    "start_date = '2022-01-01'\n",
    "end_date = '2023-12-31'"
   ]
  },
  {
   "cell_type": "markdown",
   "id": "7487667d-c30e-4619-a0f8-ec3ae97659b6",
   "metadata": {
    "jp-MarkdownHeadingCollapsed": true,
    "tags": []
   },
   "source": [
    "## 2.2 Other Global Parameters"
   ]
  },
  {
   "cell_type": "code",
   "execution_count": null,
   "id": "a846962d-477e-4255-925e-0192b505bb16",
   "metadata": {},
   "outputs": [],
   "source": [
    "# Define a function to set color based on value\n",
    "def color_positive_negative(value):\n",
    "    if value > 0:\n",
    "        return 'green'\n",
    "    elif value < 0:\n",
    "        return 'red'\n",
    "    else:\n",
    "        return 'black'"
   ]
  },
  {
   "cell_type": "markdown",
   "id": "230e1ee9-1de5-4621-8c2c-211878b00832",
   "metadata": {
    "jp-MarkdownHeadingCollapsed": true,
    "tags": []
   },
   "source": [
    "# 3. Data Exploration"
   ]
  },
  {
   "cell_type": "markdown",
   "id": "f412dea8-30e2-4b90-a647-a361b5af96bd",
   "metadata": {
    "jp-MarkdownHeadingCollapsed": true,
    "tags": []
   },
   "source": [
    "## 3.1 Data Collection and Reframe"
   ]
  },
  {
   "cell_type": "code",
   "execution_count": null,
   "id": "fbba85b4-a5b8-413e-a01e-1b33bd74fffe",
   "metadata": {
    "tags": []
   },
   "outputs": [],
   "source": [
    "# Fetch stocks historical daily data from yfinance\n",
    "stocks_daily = yf.download(assets, start = start_date, end = end_date, interval = '1D', auto_adjust = True)"
   ]
  },
  {
   "cell_type": "code",
   "execution_count": null,
   "id": "276c3008-2d1e-42ad-b405-4b3acfb01a45",
   "metadata": {
    "tags": []
   },
   "outputs": [],
   "source": [
    "# Fetch Bitcoin historical daily data from yfinance\n",
    "btc_daily = yf.download('BTC-USD', start = start_date, end = end_date, interval = '1D', auto_adjust = True)"
   ]
  },
  {
   "cell_type": "code",
   "execution_count": null,
   "id": "6f615311-fe79-4a62-905c-16633eb7f5bc",
   "metadata": {
    "tags": []
   },
   "outputs": [],
   "source": [
    "# Check stocks data\n",
    "\n",
    "stocks_daily"
   ]
  },
  {
   "cell_type": "code",
   "execution_count": null,
   "id": "8cfe0b55-1c83-45fd-91d8-85a2b688abc5",
   "metadata": {
    "tags": []
   },
   "outputs": [],
   "source": [
    "# Output the stocks data as csv\n",
    "# stocks_daily.to_csv('stocks_daily.csv', index = True)"
   ]
  },
  {
   "cell_type": "code",
   "execution_count": null,
   "id": "40d51e83-793f-4c8c-9d5a-fdc7b583ad26",
   "metadata": {
    "tags": []
   },
   "outputs": [],
   "source": [
    "#Check if there is NULL in the data\n",
    "stocks_daily.isnull().sum()"
   ]
  },
  {
   "cell_type": "code",
   "execution_count": null,
   "id": "309427ac-2e8a-43a9-8ee3-5a096403189e",
   "metadata": {
    "tags": []
   },
   "outputs": [],
   "source": [
    "# Drop the non-useful information and check again\n",
    "\n",
    "stocks_daily.drop(columns = 'Adj Close', inplace = True)\n",
    "stocks_daily"
   ]
  },
  {
   "cell_type": "code",
   "execution_count": null,
   "id": "e0504f54-641d-44cc-bf96-dc7d7393896d",
   "metadata": {
    "tags": []
   },
   "outputs": [],
   "source": [
    "#Extract only the \"Close\" price data\n",
    "stocks_close = stocks_daily['Close']\n",
    "stocks_close"
   ]
  },
  {
   "cell_type": "code",
   "execution_count": null,
   "id": "90c78918-cd6f-4b69-8b8a-88793c0231d1",
   "metadata": {
    "tags": []
   },
   "outputs": [],
   "source": [
    "# When fetching the data from yfinance, there is a hint warning some tickers are not loaded, so drop them all.\n",
    "stocks_close.dropna(axis = 'columns', how = 'all', inplace = True)\n",
    "stocks_close"
   ]
  },
  {
   "cell_type": "code",
   "execution_count": null,
   "id": "45ed6df7-3791-48e5-bf2d-1d89593fd995",
   "metadata": {
    "tags": []
   },
   "outputs": [],
   "source": [
    "# If dropna directly, will lose all the data, that means some columns still have NaN \n",
    "stocks_close.dropna()"
   ]
  },
  {
   "cell_type": "code",
   "execution_count": null,
   "id": "a5ca803b-2ee2-423a-ae5a-90e6099a771b",
   "metadata": {
    "tags": []
   },
   "outputs": [],
   "source": [
    "# Fill all the NaN\n",
    "\n",
    "stocks_close.fillna(method = 'ffill', inplace = True)\n",
    "stocks_close.fillna(0, inplace = True)"
   ]
  },
  {
   "cell_type": "code",
   "execution_count": null,
   "id": "93967b7c-6563-4ec4-8124-4c26e5629e97",
   "metadata": {
    "tags": []
   },
   "outputs": [],
   "source": [
    "# Check again\n",
    "stocks_close.dropna()"
   ]
  },
  {
   "cell_type": "code",
   "execution_count": null,
   "id": "bae655ec-1629-40cf-aac1-ea657cc8bd09",
   "metadata": {
    "tags": []
   },
   "outputs": [],
   "source": [
    "# Check BTC data\n",
    "\n",
    "btc_daily.isnull().sum()"
   ]
  },
  {
   "cell_type": "code",
   "execution_count": null,
   "id": "5c87874e-e816-4fa5-908f-b696a34cb9d1",
   "metadata": {
    "tags": []
   },
   "outputs": [],
   "source": [
    "# Get the BTC close price data\n",
    "\n",
    "btc_close = btc_daily['Close'].to_frame()\n",
    "btc_close.columns = ['BTC']\n",
    "btc_close"
   ]
  },
  {
   "cell_type": "code",
   "execution_count": null,
   "id": "825e1745-f1e5-4f4a-9dd6-c175fcedb980",
   "metadata": {},
   "outputs": [],
   "source": [
    "# Combine stocks and BTC close price into one DataFrame\n",
    "\n",
    "df_close = pd.concat([stocks_close, btc_close], axis = 1, join = 'inner')\n",
    "df_close"
   ]
  },
  {
   "cell_type": "markdown",
   "id": "e310c80e-9e0c-426a-b642-51700abccf84",
   "metadata": {
    "tags": []
   },
   "source": [
    "## 3.2 Correlation Within All The Assets"
   ]
  },
  {
   "cell_type": "markdown",
   "id": "71641081-5125-4f3f-a6c9-4a7aa5357b36",
   "metadata": {
    "jp-MarkdownHeadingCollapsed": true,
    "tags": []
   },
   "source": [
    "### 3.2.1 Regular Correlation Analysis"
   ]
  },
  {
   "cell_type": "code",
   "execution_count": null,
   "id": "1f636338-aebb-4407-9456-f0610c782805",
   "metadata": {
    "tags": []
   },
   "outputs": [],
   "source": [
    "# Calculate daily returns for each asset, using log method\n",
    "daily_returns = df_close.apply(np.log).diff(1).dropna(how = 'all')\n",
    "daily_returns.fillna(0, inplace = True)\n",
    "daily_returns"
   ]
  },
  {
   "cell_type": "code",
   "execution_count": null,
   "id": "2af0a6db-7f05-428f-9269-b20fe8711c27",
   "metadata": {
    "tags": []
   },
   "outputs": [],
   "source": [
    "# Show daily returns plot\n",
    "# daily_returns.hvplot(xlabel = 'Date', ylabel = 'Daily Return', title = 'Daily Returns of Tickers', width = 900, height = 400)"
   ]
  },
  {
   "cell_type": "code",
   "execution_count": null,
   "id": "8366ba7c-ca89-48b4-b281-0cc54d709631",
   "metadata": {
    "tags": []
   },
   "outputs": [],
   "source": [
    "# Calculate the correlation matrix\n",
    "correlation_matrix = daily_returns.corr()\n",
    "\n",
    "# Display the correlation matrix\n",
    "correlation_matrix"
   ]
  },
  {
   "cell_type": "markdown",
   "id": "25439132-0b0c-4072-aa29-8908052e7ad8",
   "metadata": {
    "jp-MarkdownHeadingCollapsed": true,
    "tags": []
   },
   "source": [
    "### 3.2.2 Distribution of Correlations"
   ]
  },
  {
   "cell_type": "code",
   "execution_count": null,
   "id": "1ab83631-0d1d-46c6-82be-b0cccd77f26b",
   "metadata": {
    "tags": []
   },
   "outputs": [],
   "source": [
    "correlation_matrix['BTC'].hvplot.hist(bins = 100, xlabel = 'Correlation', \n",
    "                                     title = \"Distribution of Assets' Correlation with BTC\")"
   ]
  },
  {
   "cell_type": "code",
   "execution_count": null,
   "id": "836ebedd-4d55-4828-87ee-a6bcca2ff341",
   "metadata": {
    "tags": []
   },
   "outputs": [],
   "source": [
    "# Evenly divide the sample into three groups by correlations\n",
    "# Filter 1 represents the lower range quantile 1/3 data\n",
    "\n",
    "filter1_cor_matrix = correlation_matrix[correlation_matrix['BTC'] <= correlation_matrix['BTC'].quantile(1/3)]\n",
    "filter1_cor_matrix = filter1_cor_matrix[filter1_cor_matrix.index]\n",
    "filter1_cor_matrix"
   ]
  },
  {
   "cell_type": "code",
   "execution_count": null,
   "id": "180c7aed-df5b-4d44-b45b-1e5a1639efc3",
   "metadata": {
    "tags": []
   },
   "outputs": [],
   "source": [
    "# Evenly divide the sample into three groups by correlations\n",
    "# Filter 2 represents the middle range quantile 1/3 data\n",
    "\n",
    "filter2_cor_matrix = correlation_matrix[(correlation_matrix['BTC'] > correlation_matrix['BTC'].quantile(1/3)) & \n",
    "                                        (correlation_matrix['BTC'] <= correlation_matrix['BTC'].quantile(2/3))]\n",
    "\n",
    "filter2_cor_matrix = filter2_cor_matrix[filter2_cor_matrix.index]\n",
    "filter2_cor_matrix"
   ]
  },
  {
   "cell_type": "code",
   "execution_count": null,
   "id": "c7d189e0-34fd-47cb-9d62-ac1c0446bc44",
   "metadata": {
    "tags": []
   },
   "outputs": [],
   "source": [
    "# Evenly divide the sample into three groups by correlations\n",
    "# Filter 3 represents the upper range quantile 1/3 data\n",
    "\n",
    "filter3_cor_matrix = correlation_matrix[correlation_matrix['BTC'] > correlation_matrix['BTC'].quantile(2/3)]\n",
    "\n",
    "filter3_cor_matrix = filter3_cor_matrix[filter3_cor_matrix.index]\n",
    "filter3_cor_matrix"
   ]
  },
  {
   "cell_type": "code",
   "execution_count": null,
   "id": "f466e2d3-f39a-46a3-a07b-d9b4218d0c22",
   "metadata": {
    "tags": []
   },
   "outputs": [],
   "source": [
    "#filter_cor_matrix.hvplot.heatmap(width = 1000, height = 600, title = 'Correlation with BTC', rot = 90)"
   ]
  },
  {
   "cell_type": "code",
   "execution_count": null,
   "id": "dd4e5093-0775-48a3-93f6-0e44da2a45ae",
   "metadata": {
    "tags": []
   },
   "outputs": [],
   "source": [
    "# Select the top 5%\n",
    "\n",
    "filter4_cor_matrix = correlation_matrix[correlation_matrix['BTC'] >= correlation_matrix['BTC'].quantile(0.95)]\n",
    "\n",
    "filter4_cor_matrix = filter4_cor_matrix[filter4_cor_matrix.index]\n",
    "filter4_cor_matrix"
   ]
  },
  {
   "cell_type": "markdown",
   "id": "b90bddb5-96e1-441c-82b6-531a9ee4d52c",
   "metadata": {
    "jp-MarkdownHeadingCollapsed": true,
    "tags": []
   },
   "source": [
    "### 3.2.3 Shift Correlation Analysis"
   ]
  },
  {
   "cell_type": "code",
   "execution_count": null,
   "id": "2aae1c94-59ff-466f-abf1-ccae6aed7245",
   "metadata": {
    "tags": []
   },
   "outputs": [],
   "source": [
    "\"\"\"\n",
    "    Helper function to calculate the shift correlation.\n",
    "\n",
    "    Args:\n",
    "        days (int): Days of shift\n",
    "        daily_rtn (DataFrame): Daily return data including stocks and BTC\n",
    "        assets (List): Stocks in the portfoio\n",
    "        \n",
    "\"\"\"\n",
    "def shift_cor(days, daily_rtn, assets):\n",
    "    \n",
    "    stocks_daily_rtn = daily_rtn[assets].drop(columns = 'BTC') \n",
    "    shift_daily_rtn = stocks_daily_rtn.shift(days)\n",
    "    shift_daily_rtn.dropna(inplace = True)\n",
    "    shift_daily_rtn.reset_index(drop = True, inplace = True)\n",
    "    \n",
    "    btc_daily_rtn = daily_rtn['BTC'].to_frame()\n",
    "    btc_daily_rtn.reset_index(drop = True, inplace = True)\n",
    "    \n",
    "    cor_matrix = daily_rtn[assets].corr()\n",
    "    \n",
    "    shift_rtn_matrix = pd.concat([shift_daily_rtn, btc_daily_rtn], join = 'inner', axis = 1)\n",
    "    shift_cor_matrix = shift_rtn_matrix.corr()\n",
    "    change_cor_matrix = (shift_cor_matrix - cor_matrix) /cor_matrix * 100\n",
    "    \n",
    "    return change_cor_matrix['BTC'].hvplot.hist(bins = 1000, xlabel = 'Changes of Correlation with BTC', \n",
    "                                                title = f\"Distribution of Changes of Correlation with BTC for Shift {days} Days\", \n",
    "                                                hover_color = 'orange', rot = 90, width = 900,\n",
    "                                                color = change_cor_matrix['BTC'].apply(color_positive_negative))\n",
    "    "
   ]
  },
  {
   "cell_type": "code",
   "execution_count": null,
   "id": "bb145838-bf9c-45d9-b15d-acefca30337e",
   "metadata": {
    "tags": []
   },
   "outputs": [],
   "source": [
    "# Shift 2 days for stocks daily return to see if the correlation with BTC will increase\n",
    "\n",
    "stocks_daily_return = daily_returns[filter_cor_matrix.index].drop(columns = 'BTC')\n",
    "stocks_daily_return = stocks_daily_return.shift(2)\n",
    "stocks_daily_return.dropna(inplace = True)\n",
    "stocks_daily_return.reset_index(drop = True, inplace = True)\n",
    "stocks_daily_return"
   ]
  },
  {
   "cell_type": "code",
   "execution_count": null,
   "id": "cee7646b-db15-4eaf-af48-971886eabd30",
   "metadata": {
    "tags": []
   },
   "outputs": [],
   "source": [
    "# Combine the shifted stocks daily return with BTC daily return, and calculate its correlation\n",
    "\n",
    "shift_rtn_matrix = pd.concat([stocks_daily_return, btc_daily_return], join = 'inner', axis = 1)\n",
    "shift_cor_matrix = shift_rtn_matrix.corr()\n",
    "shift_cor_matrix"
   ]
  },
  {
   "cell_type": "code",
   "execution_count": null,
   "id": "086a0766-7610-4670-9a1a-a5412b2bd27e",
   "metadata": {
    "tags": []
   },
   "outputs": [],
   "source": [
    "# Extract BTC daily return\n",
    "\n",
    "btc_daily_return = daily_returns['BTC'].to_frame()\n",
    "btc_daily_return.reset_index(drop = True, inplace = True)\n",
    "btc_daily_return"
   ]
  },
  {
   "cell_type": "code",
   "execution_count": null,
   "id": "936d7d85-325f-4a62-a40b-df4d9a3f8df1",
   "metadata": {
    "tags": []
   },
   "outputs": [],
   "source": [
    "# Check if there is difference for the correlation\n",
    "# if the correlation after shift is greater than the original, there is a chance BTC would be a leading indicator\n",
    "filter_cor_matrix < shift_cor_matrix"
   ]
  },
  {
   "cell_type": "code",
   "execution_count": null,
   "id": "706622fc-996b-4cb5-9b94-a20e3847a2f1",
   "metadata": {
    "tags": []
   },
   "outputs": [],
   "source": [
    "# The percent change of correlation\n",
    "change_cor_matrix = (shift_cor_matrix - filter_cor_matrix) /filter_cor_matrix * 100\n",
    "change_cor_matrix"
   ]
  },
  {
   "cell_type": "code",
   "execution_count": null,
   "id": "24d541c9-d0bc-4961-ba8e-72a46a462ca5",
   "metadata": {
    "tags": []
   },
   "outputs": [],
   "source": [
    "# Plot the changes of correlation\n",
    "\n",
    "change_cor_plot = change_cor_matrix['BTC'].hvplot.bar(title = \"Changes of Correlation with BTC for Shift 2 Days\", \n",
    "                                                      xlabel = 'Assets', ylabel = 'Change of Correlation%', \n",
    "                                                      hover_color = 'orange', \n",
    "                                                      color = change_cor_matrix['BTC'].apply(color_positive_negative))\n",
    "change_cor_plot"
   ]
  },
  {
   "cell_type": "code",
   "execution_count": null,
   "id": "1b493ca7-6712-4d2e-985e-2bdc680f906c",
   "metadata": {
    "tags": []
   },
   "outputs": [],
   "source": [
    "shift_1 = shift_cor(1, daily_returns, filter3_cor_matrix.index)\n",
    "shift_1"
   ]
  },
  {
   "cell_type": "code",
   "execution_count": null,
   "id": "46f934fa-1f44-4f8b-a217-826ab8fd53d7",
   "metadata": {
    "tags": []
   },
   "outputs": [],
   "source": [
    "shift_2 = shift_cor(2, daily_returns, filter3_cor_matrix.index)\n",
    "shift_2"
   ]
  },
  {
   "cell_type": "code",
   "execution_count": null,
   "id": "34599c3b-53f9-4a19-a618-dde3e1405e5c",
   "metadata": {
    "tags": []
   },
   "outputs": [],
   "source": [
    "shift_3 = shift_cor(3, daily_returns, filter3_cor_matrix.index)\n",
    "shift_3"
   ]
  },
  {
   "cell_type": "code",
   "execution_count": null,
   "id": "b963edec-091a-4be8-80c8-1aa759213a97",
   "metadata": {
    "tags": []
   },
   "outputs": [],
   "source": [
    "shift_4 = shift_cor(4, daily_returns, filter3_cor_matrix.index)\n",
    "shift_4"
   ]
  },
  {
   "cell_type": "code",
   "execution_count": null,
   "id": "fe585665-c86c-4fed-9ff3-021d504f7cd7",
   "metadata": {
    "tags": []
   },
   "outputs": [],
   "source": [
    "shift_5 = shift_cor(5, daily_returns, filter3_cor_matrix.index)\n",
    "shift_5"
   ]
  },
  {
   "cell_type": "code",
   "execution_count": null,
   "id": "7665698a-d536-41ca-a16e-b3924fe78399",
   "metadata": {
    "tags": []
   },
   "outputs": [],
   "source": [
    "shift_6 = shift_cor(6, daily_returns, filter3_cor_matrix.index)\n",
    "shift_6"
   ]
  },
  {
   "cell_type": "code",
   "execution_count": null,
   "id": "260a4e47-bd5d-47fb-bf09-fb19cad566f3",
   "metadata": {
    "tags": []
   },
   "outputs": [],
   "source": [
    "shift_7 = shift_cor(7, daily_returns, filter3_cor_matrix.index)\n",
    "shift_7"
   ]
  },
  {
   "cell_type": "markdown",
   "id": "982ee9a9-89a5-4f4b-ba0c-9200f5cd6a16",
   "metadata": {
    "jp-MarkdownHeadingCollapsed": true,
    "tags": []
   },
   "source": [
    "## 3.3 Changes of Correlation over time"
   ]
  },
  {
   "cell_type": "code",
   "execution_count": null,
   "id": "1e50309d-47c1-441c-941f-da529f4d3cf7",
   "metadata": {
    "tags": []
   },
   "outputs": [],
   "source": [
    "\"\"\"\n",
    "    Helper function to calculate the correlation with two tickers.\n",
    "\n",
    "    Args:\n",
    "        daily_return (DataFrame): A DataFrame contains the tickers' daily returns information\n",
    "        tickers (list): list of the tickers' names\n",
    "        rolling_window: rolling days for the correlation\n",
    "\"\"\"\n",
    "def correlation(daily_return, tickers, rolling_window):\n",
    "    \n",
    "    # Generate a correlation matrix between tickers\n",
    "    cor = daily_return[tickers].rolling(window = rolling_window).corr().dropna()\n",
    "    \n",
    "    # Delete Ticker Index, keep Date Index only\n",
    "    df_filtered = cor.loc[cor.index.get_level_values(1) == tickers[0], :]\n",
    "    df_filtered.reset_index(level = 1, inplace = True)\n",
    "    \n",
    "    # Drop and rename columns\n",
    "    df_filtered.drop(columns = ['level_1', tickers[0]], inplace = True)\n",
    "    df_filtered.columns = ['Correlation']\n",
    "    \n",
    "    return df_filtered"
   ]
  },
  {
   "cell_type": "code",
   "execution_count": null,
   "id": "f0e52614-5fe1-46fa-8080-fb09b49aecbd",
   "metadata": {
    "tags": []
   },
   "outputs": [],
   "source": [
    "# Show the correlation between AAPL and BTC over time\n",
    "\n",
    "btc_riot_corr = correlation(daily_returns, tickers = ['AAPL', 'BTC'], rolling_window = 30)\n",
    "btc_riot_corr"
   ]
  },
  {
   "cell_type": "code",
   "execution_count": null,
   "id": "0c938a68-41b3-4161-8cac-b6fbdc119de0",
   "metadata": {
    "tags": []
   },
   "outputs": [],
   "source": [
    "# Plot the correlation over time\n",
    "\n",
    "btc_riot_corr.hvplot(title = 'Correlation Over Time', xlabel = 'Days', ylabel = 'Correlation', width = 800, height = 400)"
   ]
  },
  {
   "cell_type": "markdown",
   "id": "11fcef0d-a885-4cab-9d3a-8f34511a304d",
   "metadata": {
    "jp-MarkdownHeadingCollapsed": true,
    "tags": []
   },
   "source": [
    "## 3.4 Betas of The Assets Compared With BTC"
   ]
  },
  {
   "cell_type": "code",
   "execution_count": null,
   "id": "f7057ccd-40f3-41b0-908a-625266b45d0c",
   "metadata": {
    "tags": []
   },
   "outputs": [],
   "source": [
    "# Calculate covariance of the sample\n",
    "covariance_assets = daily_returns.cov().loc['BTC']\n",
    "\n",
    "# Calculate variance of BTC\n",
    "var_btc = daily_returns['BTC'].var()\n",
    "\n",
    "# Computing beta\n",
    "beta = covariance_assets / var_btc\n",
    "beta.sort_values(ascending = False)"
   ]
  },
  {
   "cell_type": "code",
   "execution_count": null,
   "id": "c856f955-f4d5-48e2-8251-8a07d1851c23",
   "metadata": {
    "tags": []
   },
   "outputs": [],
   "source": [
    "# Plot the beta\n",
    "\n",
    "beta.hvplot.hist(bins = 3600, title = 'Distribution of Beta relative with BTC', xlabel = 'Beta', \n",
    "                 hover_color = 'orange', width = 900)"
   ]
  },
  {
   "cell_type": "markdown",
   "id": "397a4d2a-e3a4-4d3b-83e4-949f0b4d2363",
   "metadata": {
    "jp-MarkdownHeadingCollapsed": true,
    "tags": []
   },
   "source": [
    "## 3.5 Sharpe Ratio of Assets"
   ]
  },
  {
   "cell_type": "code",
   "execution_count": null,
   "id": "c6cd58fb-352d-4e37-bd49-c4f8b4475896",
   "metadata": {
    "tags": []
   },
   "outputs": [],
   "source": [
    "#Set the annual interest rate\n",
    "interest_rate = 0.02"
   ]
  },
  {
   "cell_type": "markdown",
   "id": "c5e2a54b-0b34-47fa-b3fc-12b1715766b8",
   "metadata": {
    "jp-MarkdownHeadingCollapsed": true,
    "tags": []
   },
   "source": [
    "### 3.5.1 Filter 1"
   ]
  },
  {
   "cell_type": "code",
   "execution_count": null,
   "id": "f3755b6f-97f5-47d7-9d47-23fbca5bb415",
   "metadata": {
    "tags": []
   },
   "outputs": [],
   "source": [
    "# Construct the portfolio assets\n",
    "portfolio_1 = filter1_cor_matrix.index.tolist()\n",
    "\n",
    "#Calculate the annual volavility of tickers\n",
    "daily_vol_1 = daily_returns[portfolio_1].std() * np.sqrt(252)\n",
    "\n",
    "# There are some NaN in the result, drop them and re-extract the index\n",
    "daily_vol_1.dropna(inplace = True)\n",
    "\n",
    "portfolio_1 = daily_vol_1.index\n",
    "\n",
    "#Calculate the Sharpe Ratio of tickers\n",
    "avg_rtn_1 = daily_returns[portfolio_1].mean() * 252\n",
    "\n",
    "sharpe_ratio_1 = (avg_rtn_1 - interest_rate) / daily_vol_1\n",
    "sharpe_ratio_1"
   ]
  },
  {
   "cell_type": "code",
   "execution_count": null,
   "id": "704288de-8a36-4e5c-95fe-7a563271aa8e",
   "metadata": {
    "tags": []
   },
   "outputs": [],
   "source": [
    "#Show the plot of Sharpe Ratio\n",
    "\n",
    "sharpe_ratio_1.sort_values(ascending = False).hvplot.bar(xlabel = \"Tickers\", ylabel = \"Sharpe Ratio\", \n",
    "                                                       title = \"Sharpe Ratio for Filter 1\", hover_color = \"orange\", rot = 90,\n",
    "                                                       color = sharpe_ratio_1.apply(color_positive_negative)) "
   ]
  },
  {
   "cell_type": "markdown",
   "id": "d530915e-c323-4097-9c5c-9be8f28051c5",
   "metadata": {
    "jp-MarkdownHeadingCollapsed": true,
    "tags": []
   },
   "source": [
    "### 3.5.2 Filter 2"
   ]
  },
  {
   "cell_type": "code",
   "execution_count": null,
   "id": "c83ff3fe-9be2-46cd-baf4-f4f09412ac97",
   "metadata": {
    "tags": []
   },
   "outputs": [],
   "source": [
    "# Construct the portfolio assets\n",
    "portfolio_2 = filter2_cor_matrix.index.tolist()\n",
    "\n",
    "#Calculate the annual volavility of tickers\n",
    "daily_vol_2 = daily_returns[portfolio_2].std() * np.sqrt(252)\n",
    "daily_vol_2.dropna(inplace = True)\n",
    "\n",
    "portfolio_2 = daily_vol_2.index\n",
    "\n",
    "#Calculate the Sharpe Ratio of tickers\n",
    "avg_rtn_2 = daily_returns[portfolio_2].mean() * 252\n",
    "sharpe_ratio_2 = (avg_rtn_2 - interest_rate) / daily_vol_2\n",
    "sharpe_ratio_2"
   ]
  },
  {
   "cell_type": "code",
   "execution_count": null,
   "id": "7b2eb4db-0b6e-4752-ad6d-b5d612919e54",
   "metadata": {
    "tags": []
   },
   "outputs": [],
   "source": [
    "#Show the plot of Sharpe Ratio\n",
    "\n",
    "sharpe_ratio_2.sort_values(ascending = False).hvplot.bar(xlabel = \"Tickers\", ylabel = \"Sharpe Ratio\", \n",
    "                                                       title = \"Sharpe Ratio for Filter 2\", hover_color = \"orange\", rot = 90,\n",
    "                                                       color = sharpe_ratio_2.apply(color_positive_negative)) "
   ]
  },
  {
   "cell_type": "markdown",
   "id": "e3163ef8-c9e6-445f-93ea-04b718e787d5",
   "metadata": {
    "jp-MarkdownHeadingCollapsed": true,
    "tags": []
   },
   "source": [
    "### 3.5.3 Filter 3"
   ]
  },
  {
   "cell_type": "code",
   "execution_count": null,
   "id": "55635e75-dd55-468c-8747-e84db470c39c",
   "metadata": {
    "tags": []
   },
   "outputs": [],
   "source": [
    "# Construct the portfolio assets\n",
    "portfolio_3 = filter3_cor_matrix.index.tolist()\n",
    "portfolio_3.pop() # remove BTC\n",
    "\n",
    "#Calculate the annual volavility of tickers\n",
    "daily_vol_3 = daily_returns[portfolio_3].std() * np.sqrt(252)\n",
    "daily_vol_3.dropna(inplace = True)\n",
    "\n",
    "portfolio_3 = daily_vol_3.index\n",
    "\n",
    "#Calculate the Sharpe Ratio of tickers\n",
    "avg_rtn_3 = daily_returns[portfolio_3].mean() * 252\n",
    "sharpe_ratio_3 = (avg_rtn_3 - interest_rate) / daily_vol_3\n",
    "sharpe_ratio_3"
   ]
  },
  {
   "cell_type": "code",
   "execution_count": null,
   "id": "853d6bfd-009d-49ba-93a2-31989b46e341",
   "metadata": {
    "tags": []
   },
   "outputs": [],
   "source": [
    "#Show the plot of Sharpe Ratio\n",
    "\n",
    "sharpe_ratio_3.sort_values(ascending = False).hvplot.bar(xlabel = \"Tickers\", ylabel = \"Sharpe Ratio\", \n",
    "                                                       title = \"Sharpe Ratio for Filter 3\", hover_color = \"orange\", rot = 90,\n",
    "                                                       color = sharpe_ratio_3.apply(color_positive_negative)) "
   ]
  },
  {
   "cell_type": "markdown",
   "id": "59949db5-2aaf-4484-9d87-97799d35d530",
   "metadata": {
    "jp-MarkdownHeadingCollapsed": true,
    "tags": []
   },
   "source": [
    "### 3.5.4 Filter 4"
   ]
  },
  {
   "cell_type": "code",
   "execution_count": null,
   "id": "ea5927f6-eba0-4ca1-bb30-9a21f2abb6b9",
   "metadata": {
    "tags": []
   },
   "outputs": [],
   "source": [
    "# Construct the portfolio assets\n",
    "portfolio_4 = filter4_cor_matrix.index.tolist()\n",
    "portfolio_4.pop() # remove BTC\n",
    "\n",
    "#Calculate the annual volavility of tickers\n",
    "daily_vol_4 = daily_returns[portfolio_4].std() * np.sqrt(252)\n",
    "daily_vol_4.dropna(inplace = True)\n",
    "\n",
    "portfolio_4 = daily_vol_4.index\n",
    "\n",
    "#Calculate the Sharpe Ratio of tickers\n",
    "avg_rtn_4 = daily_returns[portfolio_4].mean() * 252\n",
    "sharpe_ratio_4 = (avg_rtn_4 - interest_rate) / daily_vol_4\n",
    "sharpe_ratio_4"
   ]
  },
  {
   "cell_type": "code",
   "execution_count": null,
   "id": "eb63306f-c1f9-4abf-86c2-98c6dd989169",
   "metadata": {
    "tags": []
   },
   "outputs": [],
   "source": [
    "#Show the plot of Sharpe Ratio\n",
    "\n",
    "sharpe_ratio_4.sort_values(ascending = False).hvplot.bar(xlabel = \"Tickers\", ylabel = \"Sharpe Ratio\", width = 1000,\n",
    "                                                       title = \"Sharpe Ratio for Filter 4\", hover_color = \"orange\", rot = 90,\n",
    "                                                       color = sharpe_ratio_4.apply(color_positive_negative)) "
   ]
  },
  {
   "cell_type": "markdown",
   "id": "382fa792-c381-4670-b5ff-6a03f284beef",
   "metadata": {
    "jp-MarkdownHeadingCollapsed": true,
    "tags": []
   },
   "source": [
    "### 3.5.5 Filter 5"
   ]
  },
  {
   "cell_type": "code",
   "execution_count": null,
   "id": "00cf3daf-5bcb-4bc5-bb73-f2ac2f14253e",
   "metadata": {
    "tags": []
   },
   "outputs": [],
   "source": [
    "# In order to mimic BTC, select the stokcs with highest correlated and beta with BTC\n",
    "\n",
    "filter_beta = beta[beta > beta.quantile(0.95)]\n",
    "\n",
    "portfolio_5 = portfolio_4[portfolio_4.isin(filter_beta.index)]\n",
    "portfolio_5"
   ]
  },
  {
   "cell_type": "code",
   "execution_count": null,
   "id": "f230ac4b-41ca-493e-970d-73ad1e896d75",
   "metadata": {
    "tags": []
   },
   "outputs": [],
   "source": [
    "# Filter out the positive Sharpe Ratios\n",
    "\n",
    "sharpe_ratio_5 = sharpe_ratio_4[portfolio_5]\n",
    "sharpe_ratio_5"
   ]
  },
  {
   "cell_type": "code",
   "execution_count": null,
   "id": "3f783c31-cccb-457c-9292-4090bfa13500",
   "metadata": {
    "tags": []
   },
   "outputs": [],
   "source": [
    "#Calculate the annual volavility of tickers\n",
    "\n",
    "daily_vol_5 = daily_returns[portfolio_5].std() * np.sqrt(252)\n",
    "\n",
    "#Calculate the Sharpe Ratio of tickers\n",
    "avg_rtn_5 = daily_returns[portfolio_5].mean() * 252"
   ]
  },
  {
   "cell_type": "code",
   "execution_count": null,
   "id": "94a6c13a-163a-42ae-80b6-29e2280729ff",
   "metadata": {
    "tags": []
   },
   "outputs": [],
   "source": [
    "#Show the plot of Sharpe Ratio\n",
    "\n",
    "sharpe_ratio_5.hvplot.bar(xlabel = \"Tickers\", ylabel = \"Sharpe Ratio\", width = 900,\n",
    "                                                       title = \"Sharpe Ratio for Filter 5\", hover_color = \"orange\", rot = 90,\n",
    "                                                       color = sharpe_ratio_4.apply(color_positive_negative)) "
   ]
  },
  {
   "cell_type": "markdown",
   "id": "3871cb23-c830-4471-8485-3814db94bbc1",
   "metadata": {
    "jp-MarkdownHeadingCollapsed": true,
    "tags": []
   },
   "source": [
    "# 4. Finding the efficient frontier using Monte Carlo simulations"
   ]
  },
  {
   "cell_type": "markdown",
   "id": "23be4a8e-0d5a-468f-a147-ac135d1ed8d0",
   "metadata": {
    "jp-MarkdownHeadingCollapsed": true,
    "tags": []
   },
   "source": [
    "### Set Up Common Parameters And Functions"
   ]
  },
  {
   "cell_type": "code",
   "execution_count": null,
   "id": "d859ff20-9680-4417-9353-6273a0bfc7aa",
   "metadata": {
    "tags": []
   },
   "outputs": [],
   "source": [
    "\"\"\"\n",
    "    Helper function to calculate the portfolio's volatility.\n",
    "\n",
    "    Args:\n",
    "        weights (np.array): An array containing the portfolio weights\n",
    "        cov_matrix (DataFrame): Covariance of tickers in portfolio\n",
    "\"\"\"\n",
    "def portf_vol(weights, cov_matrix):\n",
    "    portf_vol = []\n",
    "    for i in range(len(weights)):\n",
    "        vol = np.sqrt(np.dot(weights[i].T, np.dot(cov_matrix, weights[i])))\n",
    "        portf_vol.append(vol)\n",
    "    portf_vol = np.array(portf_vol)\n",
    "    return portf_vol"
   ]
  },
  {
   "cell_type": "code",
   "execution_count": null,
   "id": "fdaf049c-f245-4bac-92d4-59a1d8dae02d",
   "metadata": {
    "tags": []
   },
   "outputs": [],
   "source": [
    "#Set up the Monte Carlo Model parameters\n",
    "np.random.seed(42)\n",
    "n_portfolios = 10 ** 5"
   ]
  },
  {
   "cell_type": "code",
   "execution_count": null,
   "id": "32309ca2-53dd-4d67-802b-bab003d5ab4b",
   "metadata": {
    "tags": []
   },
   "outputs": [],
   "source": [
    "\"\"\"\n",
    "    Helper function to calculate the efficient frontier curve.\n",
    "\n",
    "    Args:\n",
    "        portf_res (DataFrame): A portfolio result comes from 4.1\n",
    "        portf_rtns (DataFrame): A portfolio return comes from 4.1\n",
    "        portf_vol (DataFrame): A portfolio volatility comes from 4.1\n",
    "\"\"\"\n",
    "\n",
    "def ef_curve(portf_res, portf_rtns, portf_vol):\n",
    "    ef_rtn = []\n",
    "    ef_vol = []\n",
    "    possible_ef_rtns = np.linspace(portf_res['Returns'].min(), portf_res['Returns'].max(), 1000)\n",
    "    \n",
    "    possible_ef_rtns = np.round(possible_ef_rtns, 3)\n",
    "    round_rtns = np.round(portf_rtns, 3)\n",
    "    \n",
    "    for rtn in possible_ef_rtns:\n",
    "        if rtn in round_rtns:\n",
    "            ef_rtn.append(rtn)\n",
    "            matched_ind = np.where(round_rtns == rtn)\n",
    "            ef_vol.append(np.min(portf_vol[matched_ind]))\n",
    "    ef_df = pd.DataFrame({'Returns': ef_rtn, 'Volatility': ef_vol})\n",
    "    return ef_df"
   ]
  },
  {
   "cell_type": "code",
   "execution_count": null,
   "id": "3609cc83-d677-4e74-b425-6c4bdb2187a7",
   "metadata": {
    "tags": []
   },
   "outputs": [],
   "source": [
    "\"\"\"\n",
    "    Helper function for printing the performance summary of a portfolio.\n",
    "\n",
    "    Args:\n",
    "        perf (pd.Series): Series containing the perf metrics\n",
    "        weights (np.array): An array containing the portfolio weights\n",
    "        assets (list): list of the asset names\n",
    "        name (str): the name of the portfolio\n",
    "\"\"\"\n",
    "\n",
    "def print_portfolio_summary(perf, weights, assets, name):\n",
    "    print(f\"{name} portfolio ----\")\n",
    "    print(\"\\nPerformance\")\n",
    "    for index, value in perf.items():\n",
    "        print(f\"{index}: {100 * value:.2f}% \", end = \"\", flush = True)\n",
    "    print(\"\\n\\nWeights\")\n",
    "    for x, y in zip(assets, weights):\n",
    "        print(f\"{x}: {100 * y:.2f}% \", end = \"\\n\", flush = True)\n",
    "    print('Total weigths: ', 100 * weights.sum())"
   ]
  },
  {
   "cell_type": "markdown",
   "id": "49d96b17-e92c-4d6b-9e6e-9239236861bc",
   "metadata": {
    "jp-MarkdownHeadingCollapsed": true,
    "tags": []
   },
   "source": [
    "## 4.1 Monte Carlo Simulation "
   ]
  },
  {
   "cell_type": "markdown",
   "id": "0ddb369c-b80b-427c-8e16-f35b02d066c6",
   "metadata": {
    "jp-MarkdownHeadingCollapsed": true,
    "tags": []
   },
   "source": [
    "### 4.1.1 Filter 1"
   ]
  },
  {
   "cell_type": "code",
   "execution_count": null,
   "id": "d2cab844-607a-4f56-a3eb-2533db9fd749",
   "metadata": {
    "tags": []
   },
   "outputs": [],
   "source": [
    "n_assets_1 = len(portfolio_1)\n",
    "\n",
    "weights_1 = np.random.random(size = (n_portfolios, n_assets_1))\n",
    "weights_1 /= np.sum(weights_1, axis = 1)[:, np.newaxis]\n",
    "\n",
    "cov_matrix_1 = daily_returns[portfolio_1].cov() * 252"
   ]
  },
  {
   "cell_type": "code",
   "execution_count": null,
   "id": "d1c9794c-dc40-4856-805f-8a0dcca2478a",
   "metadata": {
    "tags": []
   },
   "outputs": [],
   "source": [
    "#Calculate the portfolio matrixs\n",
    "portf_rtns_1 = np.dot(weights_1, avg_rtn_1)\n",
    "portf_vol_1 = portf_vol(weights_1, cov_matrix_1)\n",
    "portf_sharpe_ratio_1 = (portf_rtns_1 - interest_rate) / portf_vol_1"
   ]
  },
  {
   "cell_type": "code",
   "execution_count": null,
   "id": "621dc77a-5867-474f-840f-cc2b1ea487e7",
   "metadata": {
    "tags": []
   },
   "outputs": [],
   "source": [
    "#Transform to DataFrame\n",
    "portf_res_1 = pd.DataFrame({'Returns': portf_rtns_1, 'Volatility': portf_vol_1, 'Sharpe Ratio': portf_sharpe_ratio_1})\n",
    "portf_res_1"
   ]
  },
  {
   "cell_type": "markdown",
   "id": "0bae5c2a-d0c3-49ca-a7c9-a7763e685b8d",
   "metadata": {
    "jp-MarkdownHeadingCollapsed": true,
    "tags": []
   },
   "source": [
    "### 4.1.2 Filter 2"
   ]
  },
  {
   "cell_type": "code",
   "execution_count": null,
   "id": "0f0f4f44-e72b-4618-a218-b46c2804c28d",
   "metadata": {
    "tags": []
   },
   "outputs": [],
   "source": [
    "n_assets_2 = len(portfolio_2)\n",
    "\n",
    "weights_2 = np.random.random(size = (n_portfolios, n_assets_2))\n",
    "weights_2 /= np.sum(weights_2, axis = 1)[:, np.newaxis]\n",
    "\n",
    "cov_matrix_2 = daily_returns[portfolio_2].fillna(0).cov() * 252"
   ]
  },
  {
   "cell_type": "code",
   "execution_count": null,
   "id": "8800010a-4721-4da9-906c-b83aaa777f00",
   "metadata": {
    "tags": []
   },
   "outputs": [],
   "source": [
    "#Calculate the portfolio matrixs\n",
    "portf_rtns_2 = np.dot(weights_2, avg_rtn_2)\n",
    "portf_vol_2 = portf_vol(weights_2, cov_matrix_2)\n",
    "portf_sharpe_ratio_2 = (portf_rtns_2 - interest_rate) / portf_vol_2"
   ]
  },
  {
   "cell_type": "code",
   "execution_count": null,
   "id": "61ca3a50-25a9-4838-9de7-fa6d61b8996f",
   "metadata": {
    "tags": []
   },
   "outputs": [],
   "source": [
    "#Transform to DataFrame\n",
    "portf_res_2 = pd.DataFrame({'Returns': portf_rtns_2, 'Volatility': portf_vol_2, 'Sharpe Ratio': portf_sharpe_ratio_2})\n",
    "portf_res_2"
   ]
  },
  {
   "cell_type": "markdown",
   "id": "10bd8451-69f7-497d-901d-7050b19673a8",
   "metadata": {
    "jp-MarkdownHeadingCollapsed": true,
    "tags": []
   },
   "source": [
    "### 4.1.3 Filter 3"
   ]
  },
  {
   "cell_type": "code",
   "execution_count": null,
   "id": "c9197351-55ab-4622-92c7-65a244625853",
   "metadata": {
    "tags": []
   },
   "outputs": [],
   "source": [
    "n_assets_3 = len(portfolio_3)\n",
    "\n",
    "weights_3 = np.random.random(size = (n_portfolios, n_assets_3))\n",
    "weights_3 /= np.sum(weights_3, axis = 1)[:, np.newaxis]\n",
    "\n",
    "cov_matrix_3 = daily_returns[portfolio_3].fillna(0).cov() * 252"
   ]
  },
  {
   "cell_type": "code",
   "execution_count": null,
   "id": "5d14b2de-4804-46b2-ae49-59d55a9085df",
   "metadata": {
    "tags": []
   },
   "outputs": [],
   "source": [
    "#Calculate the portfolio matrixs\n",
    "portf_rtns_3 = np.dot(weights_3, avg_rtn_3)\n",
    "portf_vol_3 = portf_vol(weights_3, cov_matrix_3)\n",
    "portf_sharpe_ratio_3 = (portf_rtns_3 - interest_rate) / portf_vol_3"
   ]
  },
  {
   "cell_type": "code",
   "execution_count": null,
   "id": "61baf9e4-0a80-43ac-98ad-15832d26276d",
   "metadata": {
    "tags": []
   },
   "outputs": [],
   "source": [
    "#Transform to DataFrame\n",
    "portf_res_3 = pd.DataFrame({'Returns': portf_rtns_3, 'Volatility': portf_vol_3, 'Sharpe Ratio': portf_sharpe_ratio_3})\n",
    "portf_res_3"
   ]
  },
  {
   "cell_type": "markdown",
   "id": "97ff2420-21fc-4241-84fa-2bfb3b5617a1",
   "metadata": {
    "jp-MarkdownHeadingCollapsed": true,
    "tags": []
   },
   "source": [
    "### 4.1.4 Filter 4"
   ]
  },
  {
   "cell_type": "code",
   "execution_count": null,
   "id": "15a20a9a-9372-4adf-a96b-a50cad34ae49",
   "metadata": {
    "tags": []
   },
   "outputs": [],
   "source": [
    "n_assets_4 = len(portfolio_4)\n",
    "\n",
    "weights_4 = np.random.random(size = (n_portfolios, n_assets_4))\n",
    "weights_4 /= np.sum(weights_4, axis = 1)[:, np.newaxis]\n",
    "\n",
    "cov_matrix_4 = daily_returns[portfolio_4].fillna(0).cov() * 252"
   ]
  },
  {
   "cell_type": "code",
   "execution_count": null,
   "id": "9afc7faf-bef0-40c9-aeb0-4f5feee839cd",
   "metadata": {
    "tags": []
   },
   "outputs": [],
   "source": [
    "#Calculate the portfolio matrixs\n",
    "portf_rtns_4 = np.dot(weights_4, avg_rtn_4)\n",
    "portf_vol_4 = portf_vol(weights_4, cov_matrix_4)\n",
    "portf_sharpe_ratio_4 = (portf_rtns_4 - interest_rate) / portf_vol_4"
   ]
  },
  {
   "cell_type": "code",
   "execution_count": null,
   "id": "2f40c3de-257c-485c-98be-948baa63af61",
   "metadata": {
    "tags": []
   },
   "outputs": [],
   "source": [
    "#Transform to DataFrame\n",
    "portf_res_4 = pd.DataFrame({'Returns': portf_rtns_4, 'Volatility': portf_vol_4, 'Sharpe Ratio': portf_sharpe_ratio_4})\n",
    "portf_res_4"
   ]
  },
  {
   "cell_type": "markdown",
   "id": "afa582d4-efa3-499b-93c0-30c3026680af",
   "metadata": {
    "jp-MarkdownHeadingCollapsed": true,
    "tags": []
   },
   "source": [
    "### 4.1.5 Filter 5"
   ]
  },
  {
   "cell_type": "code",
   "execution_count": null,
   "id": "6e9c29f8-718b-47ca-9353-89db992e6f15",
   "metadata": {
    "tags": []
   },
   "outputs": [],
   "source": [
    "n_assets_5 = len(portfolio_5)\n",
    "\n",
    "weights_5 = np.random.random(size = (n_portfolios, n_assets_5))\n",
    "weights_5 /= np.sum(weights_5, axis = 1)[:, np.newaxis]\n",
    "\n",
    "cov_matrix_5 = daily_returns[portfolio_5].cov() * 252"
   ]
  },
  {
   "cell_type": "code",
   "execution_count": null,
   "id": "31f7b1ba-2aa8-447e-9583-c367052ec37a",
   "metadata": {
    "tags": []
   },
   "outputs": [],
   "source": [
    "#Calculate the portfolio matrixs\n",
    "portf_rtns_5 = np.dot(weights_5, avg_rtn_5)\n",
    "portf_vol_5 = portf_vol(weights_5, cov_matrix_5)\n",
    "portf_sharpe_ratio_5 = (portf_rtns_5 - interest_rate) / portf_vol_5"
   ]
  },
  {
   "cell_type": "code",
   "execution_count": null,
   "id": "89ed8b89-1858-458e-990b-5251b4eba185",
   "metadata": {
    "tags": []
   },
   "outputs": [],
   "source": [
    "#Transform to DataFrame\n",
    "portf_res_5 = pd.DataFrame({'Returns': portf_rtns_5, 'Volatility': portf_vol_5, 'Sharpe Ratio': portf_sharpe_ratio_5})\n",
    "portf_res_5"
   ]
  },
  {
   "cell_type": "markdown",
   "id": "e4486512-ae72-4e07-8a93-86ccdad99c4d",
   "metadata": {
    "tags": []
   },
   "source": [
    "## 4.2 Monte Carlo Chart"
   ]
  },
  {
   "cell_type": "markdown",
   "id": "8716bd3f-800e-4965-a3de-7d474f74b74a",
   "metadata": {
    "jp-MarkdownHeadingCollapsed": true,
    "tags": []
   },
   "source": [
    "### 4.2.1 Filter 1"
   ]
  },
  {
   "cell_type": "code",
   "execution_count": null,
   "id": "ee3f837c-c920-4385-8f1b-f22dddc9d374",
   "metadata": {
    "tags": []
   },
   "outputs": [],
   "source": [
    "# Simulation Portfolio Scatter Chart\n",
    "portf_1_plot = portf_res_1.hvplot.scatter(x = 'Volatility', y = 'Returns', c = \"Sharpe Ratio\", \n",
    "                                      height = 400, width = 800, title = 'Monte Carlo Simulation for Filter 1')\n",
    "portf_1_plot"
   ]
  },
  {
   "cell_type": "code",
   "execution_count": null,
   "id": "538f0419-c2b6-42f3-b4cc-b79893ebeb3f",
   "metadata": {
    "tags": []
   },
   "outputs": [],
   "source": [
    "# Plot the efficient frontier curve\n",
    "\n",
    "ef_1 = ef_curve(portf_res_1, portf_rtns_1, portf_vol_1)\n",
    "ef_1_plot = ef_1.hvplot.scatter(x = 'Volatility', y = 'Returns', title = 'Effecient Frointer for Filter 1')\n",
    "ef_1_plot"
   ]
  },
  {
   "cell_type": "code",
   "execution_count": null,
   "id": "2c729284-30be-40f8-a496-7e0153defba1",
   "metadata": {
    "tags": []
   },
   "outputs": [],
   "source": [
    "# Combine the charts\n",
    "(portf_1_plot * ef_1_plot).opts(height = 400, width = 900)"
   ]
  },
  {
   "cell_type": "markdown",
   "id": "f18b351e-5c1a-4d3e-8270-4c48eb0210c1",
   "metadata": {
    "jp-MarkdownHeadingCollapsed": true,
    "tags": []
   },
   "source": [
    "### 4.2.2 Filter 2"
   ]
  },
  {
   "cell_type": "code",
   "execution_count": null,
   "id": "decf72a5-5871-4f73-81b6-1bae8d57541a",
   "metadata": {
    "tags": []
   },
   "outputs": [],
   "source": [
    "# Simulation Portfolio Scatter Chart\n",
    "portf_2_plot = portf_res_2.hvplot.scatter(x = 'Volatility', y = 'Returns', c = \"Sharpe Ratio\", \n",
    "                                      height = 400, width = 800, title = 'Monte Carlo Simulation for Filter 2')\n",
    "portf_2_plot"
   ]
  },
  {
   "cell_type": "code",
   "execution_count": null,
   "id": "23dca7d3-2113-42bd-b949-d2b4ee6d8682",
   "metadata": {
    "tags": []
   },
   "outputs": [],
   "source": [
    "# Plot the efficient frontier curve\n",
    "\n",
    "ef_2 = ef_curve(portf_res_2, portf_rtns_2, portf_vol_2)\n",
    "ef_2_plot = ef_2.hvplot.scatter(x = 'Volatility', y = 'Returns', title = 'Effecient Frointer for Filter 2')\n",
    "ef_2_plot"
   ]
  },
  {
   "cell_type": "code",
   "execution_count": null,
   "id": "ebcb1cbf-6537-40fb-ba86-e0bcf8a6b99d",
   "metadata": {
    "tags": []
   },
   "outputs": [],
   "source": [
    "# Combine the charts\n",
    "(portf_2_plot * ef_2_plot).opts(height = 400, width = 900)"
   ]
  },
  {
   "cell_type": "markdown",
   "id": "e2a08bf3-56d2-4757-87e4-e8ae18dcc7ec",
   "metadata": {
    "jp-MarkdownHeadingCollapsed": true,
    "tags": []
   },
   "source": [
    "### 4.2.3 Filter 3"
   ]
  },
  {
   "cell_type": "code",
   "execution_count": null,
   "id": "8f320208-49cd-4a84-a025-552ea989c09e",
   "metadata": {
    "tags": []
   },
   "outputs": [],
   "source": [
    "# Simulation Portfolio Scatter Chart\n",
    "portf_3_plot = portf_res_3.hvplot.scatter(x = 'Volatility', y = 'Returns', c = \"Sharpe Ratio\", \n",
    "                                      height = 400, width = 800, title = 'Monte Carlo Simulation for Filter 3')\n",
    "portf_3_plot"
   ]
  },
  {
   "cell_type": "code",
   "execution_count": null,
   "id": "7d14cd86-8faf-4017-9038-1255a2d2793b",
   "metadata": {
    "tags": []
   },
   "outputs": [],
   "source": [
    "# Plot the efficient frontier curve\n",
    "\n",
    "ef_3 = ef_curve(portf_res_3, portf_rtns_3, portf_vol_3)\n",
    "ef_3_plot = ef_3.hvplot.scatter(x = 'Volatility', y = 'Returns', title = 'Effecient Frointer for Filter 3')\n",
    "ef_3_plot"
   ]
  },
  {
   "cell_type": "code",
   "execution_count": null,
   "id": "56bfccb4-ceb7-46ec-8dd6-f34507a1c38f",
   "metadata": {
    "tags": []
   },
   "outputs": [],
   "source": [
    "# Combine the charts\n",
    "(portf_3_plot * ef_3_plot).opts(height = 400, width = 900)"
   ]
  },
  {
   "cell_type": "markdown",
   "id": "42070bc6-5d0c-45ab-a174-3068af73f795",
   "metadata": {
    "jp-MarkdownHeadingCollapsed": true,
    "tags": []
   },
   "source": [
    "### 4.2.4 Filter 4"
   ]
  },
  {
   "cell_type": "code",
   "execution_count": null,
   "id": "3d4e2a9c-cb77-4180-85f0-fcf20b19f625",
   "metadata": {
    "tags": []
   },
   "outputs": [],
   "source": [
    "# Simulation Portfolio Scatter Chart\n",
    "portf_4_plot = portf_res_4.hvplot.scatter(x = 'Volatility', y = 'Returns', c = \"Sharpe Ratio\", \n",
    "                                      height = 400, width = 800, title = 'Monte Carlo Simulation for Filter 4')\n",
    "portf_4_plot"
   ]
  },
  {
   "cell_type": "code",
   "execution_count": null,
   "id": "b35612e1-8458-46d4-b531-6337b2c2dc20",
   "metadata": {
    "tags": []
   },
   "outputs": [],
   "source": [
    "# Plot the efficient frontier curve\n",
    "\n",
    "ef_4 = ef_curve(portf_res_4, portf_rtns_4, portf_vol_4)\n",
    "ef_4_plot = ef_4.hvplot.scatter(x = 'Volatility', y = 'Returns', title = 'Effecient Frointer for Filter 4')\n",
    "ef_4_plot"
   ]
  },
  {
   "cell_type": "code",
   "execution_count": null,
   "id": "d797e07c-6cae-4c25-b1f9-9017c5c1912c",
   "metadata": {
    "tags": []
   },
   "outputs": [],
   "source": [
    "# Combine the charts\n",
    "(portf_4_plot * ef_4_plot).opts(height = 400, width = 900)"
   ]
  },
  {
   "cell_type": "markdown",
   "id": "fc3c9ec2-5c1d-47d5-94fe-ca37e17ac07a",
   "metadata": {
    "jp-MarkdownHeadingCollapsed": true,
    "tags": []
   },
   "source": [
    "### 4.2.5 Filter 5"
   ]
  },
  {
   "cell_type": "code",
   "execution_count": null,
   "id": "f7aae841-6afd-478a-8596-4ef09174de54",
   "metadata": {
    "tags": []
   },
   "outputs": [],
   "source": [
    "# Simulation Portfolio Scatter Chart\n",
    "portf_5_plot = portf_res_5.hvplot.scatter(x = 'Volatility', y = 'Returns', c = \"Sharpe Ratio\", \n",
    "                                      height = 400, width = 800, title = 'Monte Carlo Simulation for Filter 5')\n",
    "portf_5_plot"
   ]
  },
  {
   "cell_type": "code",
   "execution_count": null,
   "id": "49d231be-d519-4c2e-b9ad-d61a96836168",
   "metadata": {
    "tags": []
   },
   "outputs": [],
   "source": [
    "# Plot the efficient frontier curve\n",
    "\n",
    "ef_5 = ef_curve(portf_res_5, portf_rtns_5, portf_vol_5)\n",
    "ef_5_plot = ef_5.hvplot.scatter(x = 'Volatility', y = 'Returns', title = 'Effecient Frointer for Filter 5')\n",
    "ef_5_plot"
   ]
  },
  {
   "cell_type": "code",
   "execution_count": null,
   "id": "f3bac457-76ed-448c-abea-7a3d5a152d79",
   "metadata": {
    "tags": []
   },
   "outputs": [],
   "source": [
    "# Combine the charts\n",
    "(portf_5_plot * ef_5_plot).opts(height = 400, width = 900)"
   ]
  },
  {
   "cell_type": "markdown",
   "id": "35536094-e51b-4f18-bd01-d51b21df2625",
   "metadata": {
    "tags": []
   },
   "source": [
    "## 4.3 Show the highest Sharpe Ratio Portfolio"
   ]
  },
  {
   "cell_type": "markdown",
   "id": "30df1acd-04f8-4662-a696-53b7d8407d63",
   "metadata": {
    "jp-MarkdownHeadingCollapsed": true,
    "tags": []
   },
   "source": [
    "### 4.3.1 Filter 1"
   ]
  },
  {
   "cell_type": "code",
   "execution_count": null,
   "id": "16a65e06-c88d-4d6a-8835-3582b10c78f5",
   "metadata": {
    "tags": []
   },
   "outputs": [],
   "source": [
    "#Extract the max_sharpe_ratio\n",
    "max_sharpe_ind_1 = np.argmax(portf_res_1['Sharpe Ratio'])\n",
    "max_sharpe_portf_1 = portf_res_1.loc[max_sharpe_ind_1]"
   ]
  },
  {
   "cell_type": "code",
   "execution_count": null,
   "id": "f091652e-a254-45ab-9566-ace3a3e619f1",
   "metadata": {
    "tags": []
   },
   "outputs": [],
   "source": [
    "# Show what is the optimized portfolio\n",
    "\n",
    "#print_portfolio_summary(max_sharpe_portf_1, weights_1[max_sharpe_ind_1], portfolio_1, name = \"Maximum Sharpe Ratio For Filter 1\")"
   ]
  },
  {
   "cell_type": "code",
   "execution_count": null,
   "id": "3f648963-69fe-4166-a941-b9566ac7aa3e",
   "metadata": {
    "tags": []
   },
   "outputs": [],
   "source": [
    "# Show Pie Chart for the optimized portfolio\n",
    "\n",
    "# data = zip(portfolio_1, weights_1[max_sharpe_ind_1])\n",
    "\n",
    "# # Unpack the zipped data into separate lists\n",
    "# labels, values = zip(*data)\n",
    "\n",
    "# # Create a pie chart\n",
    "# fig, ax = plt.subplots(figsize = (10, 6))\n",
    "# ax.pie(values, labels = labels, autopct = '%1.2f%%', startangle = 50)\n",
    "# ax.axis('equal')  # Equal aspect ratio ensures that the pie is drawn as a circle.\n",
    "\n",
    "# plt.title('Portfolio Composition For Filter 1')\n",
    "# plt.show()"
   ]
  },
  {
   "cell_type": "markdown",
   "id": "a2e77a23-02eb-4207-a247-96b81d4cd761",
   "metadata": {
    "jp-MarkdownHeadingCollapsed": true,
    "tags": []
   },
   "source": [
    "### 4.3.2 Filter 2"
   ]
  },
  {
   "cell_type": "code",
   "execution_count": null,
   "id": "6a6c3055-5980-4ec9-bfd0-e696c8eb3e37",
   "metadata": {
    "tags": []
   },
   "outputs": [],
   "source": [
    "#Extract the max_sharpe_ratio\n",
    "max_sharpe_ind_2 = np.argmax(portf_res_2['Sharpe Ratio'])\n",
    "max_sharpe_portf_2 = portf_res_2.loc[max_sharpe_ind_2]"
   ]
  },
  {
   "cell_type": "code",
   "execution_count": null,
   "id": "8816ca5a-405b-4a2e-a551-3d655ef7b867",
   "metadata": {},
   "outputs": [],
   "source": [
    "# Show what is the optimized portfolio\n",
    "\n",
    "#print_portfolio_summary(max_sharpe_portf_2, weights_2[max_sharpe_ind_2], portfolio_2, name = \"Maximum Sharpe Ratio For Filter 2\")"
   ]
  },
  {
   "cell_type": "code",
   "execution_count": null,
   "id": "6ccf4f76-029b-4381-9b3b-295deeec5f03",
   "metadata": {},
   "outputs": [],
   "source": [
    "# Show Pie Chart for the optimized portfolio\n",
    "\n",
    "# data = zip(portfolio_2, weights_2[max_sharpe_ind_2])\n",
    "\n",
    "# # Unpack the zipped data into separate lists\n",
    "# labels, values = zip(*data)\n",
    "\n",
    "# # Create a pie chart\n",
    "# fig, ax = plt.subplots(figsize = (10, 6))\n",
    "# ax.pie(values, labels = labels, autopct = '%1.2f%%', startangle = 50)\n",
    "# ax.axis('equal')  # Equal aspect ratio ensures that the pie is drawn as a circle.\n",
    "\n",
    "# plt.title('Portfolio Composition For Filter 2')\n",
    "# plt.show()"
   ]
  },
  {
   "cell_type": "markdown",
   "id": "3e2c968b-9fc4-47db-b507-4065579980d5",
   "metadata": {
    "jp-MarkdownHeadingCollapsed": true,
    "tags": []
   },
   "source": [
    "### 4.3.3 Filter 3"
   ]
  },
  {
   "cell_type": "code",
   "execution_count": null,
   "id": "be0e3219-0303-4e0e-83db-50072539f9e0",
   "metadata": {
    "tags": []
   },
   "outputs": [],
   "source": [
    "#Extract the max_sharpe_ratio\n",
    "max_sharpe_ind_3 = np.argmax(portf_res_3['Sharpe Ratio'])\n",
    "max_sharpe_portf_3 = portf_res_3.loc[max_sharpe_ind_3]"
   ]
  },
  {
   "cell_type": "code",
   "execution_count": null,
   "id": "799a2586-53ed-4279-bc1f-7b65eb3253b6",
   "metadata": {},
   "outputs": [],
   "source": [
    "# Show what is the optimized portfolio\n",
    "\n",
    "#print_portfolio_summary(max_sharpe_portf_3, weights_3[max_sharpe_ind_3], portfolio_3, name = \"Maximum Sharpe Ratio For Filter 3\")"
   ]
  },
  {
   "cell_type": "code",
   "execution_count": null,
   "id": "0f6207e2-d9c5-4977-80d9-a2888d032325",
   "metadata": {},
   "outputs": [],
   "source": [
    "# Show Pie Chart for the optimized portfolio\n",
    "\n",
    "# data = zip(portfolio_3, weights_3[max_sharpe_ind_2])\n",
    "\n",
    "# # Unpack the zipped data into separate lists\n",
    "# labels, values = zip(*data)\n",
    "\n",
    "# # Create a pie chart\n",
    "# fig, ax = plt.subplots(figsize = (10, 6))\n",
    "# ax.pie(values, labels = labels, autopct = '%1.2f%%', startangle = 50)\n",
    "# ax.axis('equal')  # Equal aspect ratio ensures that the pie is drawn as a circle.\n",
    "\n",
    "# plt.title('Portfolio Composition For Filter 3')\n",
    "# plt.show()"
   ]
  },
  {
   "cell_type": "markdown",
   "id": "d458e767-6ded-41a5-b0b0-974826b701cf",
   "metadata": {
    "jp-MarkdownHeadingCollapsed": true,
    "tags": []
   },
   "source": [
    "### 4.3.4 Filter 4"
   ]
  },
  {
   "cell_type": "code",
   "execution_count": null,
   "id": "d7797161-c7f2-4a0c-8103-4af782654023",
   "metadata": {
    "tags": []
   },
   "outputs": [],
   "source": [
    "#Extract the max_sharpe_ratio\n",
    "max_sharpe_ind_4 = np.argmax(portf_res_4['Sharpe Ratio'])\n",
    "max_sharpe_portf_4 = portf_res_4.loc[max_sharpe_ind_4]"
   ]
  },
  {
   "cell_type": "code",
   "execution_count": null,
   "id": "91971aa9-1211-45b8-b2ee-194626edd5b2",
   "metadata": {
    "tags": []
   },
   "outputs": [],
   "source": [
    "# Show what is the optimized portfolio\n",
    "\n",
    "#print_portfolio_summary(max_sharpe_portf_4, weights_4[max_sharpe_ind_4], portfolio_4, name = \"Maximum Sharpe Ratio For Filter 4\")"
   ]
  },
  {
   "cell_type": "code",
   "execution_count": null,
   "id": "3474840f-9200-4a41-bf74-38d868c740b4",
   "metadata": {
    "tags": []
   },
   "outputs": [],
   "source": [
    "# Show Pie Chart for the optimized portfolio\n",
    "\n",
    "# data = zip(portfolio_4, weights_4[max_sharpe_ind_4])\n",
    "\n",
    "# # Unpack the zipped data into separate lists\n",
    "# labels, values = zip(*data)\n",
    "\n",
    "# # Create a pie chart\n",
    "# fig, ax = plt.subplots(figsize = (10, 6))\n",
    "# ax.pie(values, labels = labels, autopct = '%1.2f%%', startangle = 50)\n",
    "# ax.axis('equal')  # Equal aspect ratio ensures that the pie is drawn as a circle.\n",
    "\n",
    "# plt.title('Portfolio Composition For Filter 4')\n",
    "# plt.show()"
   ]
  },
  {
   "cell_type": "markdown",
   "id": "be633735-6b6a-4758-b660-cf3ad56e808d",
   "metadata": {
    "jp-MarkdownHeadingCollapsed": true,
    "tags": []
   },
   "source": [
    "### 4.3.5 Filter 5"
   ]
  },
  {
   "cell_type": "code",
   "execution_count": null,
   "id": "052d3cb7-e156-4120-acc6-bd60f1c3b1f9",
   "metadata": {
    "tags": []
   },
   "outputs": [],
   "source": [
    "#Extract the max_sharpe_ratio\n",
    "max_sharpe_ind_5 = np.argmax(portf_res_5['Sharpe Ratio'])\n",
    "max_sharpe_portf_5 = portf_res_5.loc[max_sharpe_ind_5]"
   ]
  },
  {
   "cell_type": "code",
   "execution_count": null,
   "id": "ddba2147-3708-4694-ae47-0ab4b1a59fb5",
   "metadata": {
    "tags": []
   },
   "outputs": [],
   "source": [
    "# Show what is the optimized portfolio\n",
    "\n",
    "print_portfolio_summary(max_sharpe_portf_5, weights_5[max_sharpe_ind_5], portfolio_5, name = \"Maximum Sharpe Ratio For Filter 5\")"
   ]
  },
  {
   "cell_type": "code",
   "execution_count": null,
   "id": "ebc2806f-c884-4ad5-a0f8-3ec762927996",
   "metadata": {
    "tags": []
   },
   "outputs": [],
   "source": [
    "# Show Pie Chart for the optimized portfolio\n",
    "\n",
    "# data = zip(portfolio_5, weights_5[max_sharpe_ind_5])\n",
    "\n",
    "# # Unpack the zipped data into separate lists\n",
    "# labels, values = zip(*data)\n",
    "\n",
    "# # Create a pie chart\n",
    "# fig, ax = plt.subplots(figsize = (10, 6))\n",
    "# ax.pie(values, labels = labels, autopct = '%1.2f%%', startangle = 50)\n",
    "# ax.axis('equal')  # Equal aspect ratio ensures that the pie is drawn as a circle.\n",
    "\n",
    "# plt.title('Portfolio Composition For Filter 5')\n",
    "# plt.show()"
   ]
  },
  {
   "cell_type": "markdown",
   "id": "6f7a3d6c-7571-4511-9ad0-7430a917993a",
   "metadata": {
    "jp-MarkdownHeadingCollapsed": true,
    "tags": []
   },
   "source": [
    "# 5. Comparison with Portfolio and BTC"
   ]
  },
  {
   "cell_type": "code",
   "execution_count": null,
   "id": "37a461a4-6f19-435f-b1f4-9043d6af87fc",
   "metadata": {
    "tags": []
   },
   "outputs": [],
   "source": [
    "# Calculate BTC cumulative return using log method\n",
    "\n",
    "btc_cum_rtn = daily_returns['BTC'].cumsum().apply(np.exp)\n",
    "btc_cum_rtn"
   ]
  },
  {
   "cell_type": "code",
   "execution_count": null,
   "id": "feb06b1e-bd66-42f0-9956-6a90239994df",
   "metadata": {
    "tags": []
   },
   "outputs": [],
   "source": [
    "# Plot the cumulative return of BTC\n",
    "\n",
    "btc_plot = btc_cum_rtn.hvplot(title = 'Cumulative Return of BTC', xlabel = 'Date', ylabel = 'Cumulative Return')\n",
    "btc_plot"
   ]
  },
  {
   "cell_type": "markdown",
   "id": "8fe574ea-4ee4-47f9-8f6c-ee445b5e3bc3",
   "metadata": {
    "jp-MarkdownHeadingCollapsed": true,
    "tags": []
   },
   "source": [
    "## 5.1 Filter 1"
   ]
  },
  {
   "cell_type": "code",
   "execution_count": null,
   "id": "85f44a24-5095-4470-b326-899f5e2be60c",
   "metadata": {
    "tags": []
   },
   "outputs": [],
   "source": [
    "# Create a optimized portfolio from the result of Monte Carlo Simulation\n",
    "\n",
    "portfolio_rtn_1 = daily_returns[portfolio_1] * weights_1[max_sharpe_ind_1]\n",
    "portfolio_rtn_1['Portfolio'] = portfolio_rtn_1.sum(axis = 1)\n",
    "cum_port_rtn_1 = portfolio_rtn_1['Portfolio'].cumsum().apply(np.exp)\n",
    "cum_port_rtn_1"
   ]
  },
  {
   "cell_type": "code",
   "execution_count": null,
   "id": "ed62fb4c-9981-42d2-9408-9870c33be08a",
   "metadata": {},
   "outputs": [],
   "source": [
    "# Plot the cumulative return of portfolio\n",
    "\n",
    "port_1_plot = cum_port_rtn_1.hvplot(title = 'Cumulative Return of Filter 1', xlabel = 'Date', ylabel = 'Cumulative Return')\n",
    "(port_1_plot * btc_plot).opts(title = 'Cumulative Returns Comparison with Filter 1 and BTC')"
   ]
  },
  {
   "cell_type": "markdown",
   "id": "66546e30-89d7-4454-91d6-4f9c9565e786",
   "metadata": {
    "jp-MarkdownHeadingCollapsed": true,
    "tags": []
   },
   "source": [
    "## 5.2 Filter 2"
   ]
  },
  {
   "cell_type": "code",
   "execution_count": null,
   "id": "79b62433-6a2d-4e7d-9e81-71bc28454a0f",
   "metadata": {
    "tags": []
   },
   "outputs": [],
   "source": [
    "# Create a optimized portfolio from the result of Monte Carlo Simulation\n",
    "\n",
    "portfolio_rtn_2 = daily_returns[portfolio_2] * weights_2[max_sharpe_ind_2]\n",
    "portfolio_rtn_2['Portfolio'] = portfolio_rtn_2.sum(axis = 1)\n",
    "cum_port_rtn_2 = portfolio_rtn_2['Portfolio'].cumsum().apply(np.exp)\n",
    "cum_port_rtn_2"
   ]
  },
  {
   "cell_type": "code",
   "execution_count": null,
   "id": "a97bb86d-cd4a-452c-8cde-b04d1b5167f9",
   "metadata": {
    "tags": []
   },
   "outputs": [],
   "source": [
    "# Plot the cumulative return of portfolio\n",
    "\n",
    "port_2_plot = cum_port_rtn_2.hvplot(title = 'Cumulative Return of Filter 2', xlabel = 'Date', ylabel = 'Cumulative Return')\n",
    "(port_2_plot * btc_plot).opts(title = 'Cumulative Returns Comparison with Filter 2 and BTC')"
   ]
  },
  {
   "cell_type": "markdown",
   "id": "e989e1dd-165d-442d-a376-fdf35773360f",
   "metadata": {
    "jp-MarkdownHeadingCollapsed": true,
    "tags": []
   },
   "source": [
    "## 5.3 Filter 3"
   ]
  },
  {
   "cell_type": "code",
   "execution_count": null,
   "id": "45af53c5-4203-46c4-8eb3-ffdcbd73a5d0",
   "metadata": {
    "tags": []
   },
   "outputs": [],
   "source": [
    "# Create a optimized portfolio from the result of Monte Carlo Simulation\n",
    "\n",
    "portfolio_rtn_3 = daily_returns[portfolio_3] * weights_3[max_sharpe_ind_3]\n",
    "portfolio_rtn_3['Portfolio'] = portfolio_rtn_3.sum(axis = 1)\n",
    "cum_port_rtn_3 = portfolio_rtn_3['Portfolio'].cumsum().apply(np.exp)\n",
    "cum_port_rtn_3"
   ]
  },
  {
   "cell_type": "code",
   "execution_count": null,
   "id": "8966a0a1-0114-48ad-9c93-94a4b57dc4e9",
   "metadata": {
    "tags": []
   },
   "outputs": [],
   "source": [
    "# Plot the cumulative return of portfolio\n",
    "\n",
    "port_3_plot = cum_port_rtn_3.hvplot(title = 'Cumulative Return of Filter 3', xlabel = 'Date', ylabel = 'Cumulative Return')\n",
    "(port_3_plot * btc_plot).opts(title = 'Cumulative Returns Comparison with Filter 3 and BTC')"
   ]
  },
  {
   "cell_type": "markdown",
   "id": "69febe84-9acb-4f1e-937a-969b5198a1df",
   "metadata": {
    "jp-MarkdownHeadingCollapsed": true,
    "tags": []
   },
   "source": [
    "## 5.4 Filter 4"
   ]
  },
  {
   "cell_type": "code",
   "execution_count": null,
   "id": "a0bd49ae-228f-40ee-ae71-0ee69781d3b8",
   "metadata": {
    "tags": []
   },
   "outputs": [],
   "source": [
    "# Create a optimized portfolio from the result of Monte Carlo Simulation\n",
    "\n",
    "portfolio_rtn_4 = daily_returns[portfolio_4] * weights_4[max_sharpe_ind_4]\n",
    "portfolio_rtn_4['Portfolio'] = portfolio_rtn_4.sum(axis = 1)\n",
    "cum_port_rtn_4 = portfolio_rtn_4['Portfolio'].cumsum().apply(np.exp)\n",
    "cum_port_rtn_4"
   ]
  },
  {
   "cell_type": "code",
   "execution_count": null,
   "id": "6bc2d0dd-5473-4b41-90d3-5535370df603",
   "metadata": {
    "tags": []
   },
   "outputs": [],
   "source": [
    "# Plot the cumulative return of portfolio\n",
    "\n",
    "port_4_plot = cum_port_rtn_4.hvplot(title = 'Cumulative Return of Filter 4', xlabel = 'Date', ylabel = 'Cumulative Return')\n",
    "(port_4_plot * btc_plot).opts(title = 'Cumulative Returns Comparison with Filter 4 and BTC')"
   ]
  },
  {
   "cell_type": "markdown",
   "id": "6f0611ec-e803-49c5-9be5-625b235b49ce",
   "metadata": {
    "jp-MarkdownHeadingCollapsed": true,
    "tags": []
   },
   "source": [
    "## 5.5 Filter 5"
   ]
  },
  {
   "cell_type": "code",
   "execution_count": null,
   "id": "71211ba2-b56a-4517-9a11-0ced363e3d7e",
   "metadata": {
    "tags": []
   },
   "outputs": [],
   "source": [
    "# Create a optimized portfolio from the result of Monte Carlo Simulation\n",
    "\n",
    "portfolio_rtn_5 = daily_returns[portfolio_5] * weights_5[max_sharpe_ind_5]\n",
    "portfolio_rtn_5['Portfolio'] = portfolio_rtn_5.sum(axis = 1)\n",
    "cum_port_rtn_5 = portfolio_rtn_5['Portfolio'].cumsum().apply(np.exp)\n",
    "cum_port_rtn_5"
   ]
  },
  {
   "cell_type": "code",
   "execution_count": null,
   "id": "7689bbe3-e0ec-4660-83f1-9db4b9fc6c7e",
   "metadata": {
    "tags": []
   },
   "outputs": [],
   "source": [
    "# Plot the cumulative return of portfolio\n",
    "\n",
    "port_5_plot = cum_port_rtn_5.hvplot(title = 'Cumulative Return of Filter 5', xlabel = 'Date', ylabel = 'Cumulative Return')\n",
    "(port_5_plot * btc_plot).opts(title = 'Cumulative Returns Comparison with Filter 5 and BTC')"
   ]
  },
  {
   "cell_type": "markdown",
   "id": "dd971e9c-524e-4d47-8286-b483b2feb661",
   "metadata": {
    "jp-MarkdownHeadingCollapsed": true,
    "tags": []
   },
   "source": [
    "# 6. Backtesing Trading Strategy"
   ]
  },
  {
   "cell_type": "markdown",
   "id": "d394f117-a405-4fdc-9989-d6dd63c2afa0",
   "metadata": {
    "jp-MarkdownHeadingCollapsed": true,
    "tags": []
   },
   "source": [
    "## 6.1 Trading strategy 1: Crossover Moving Average\n",
    "* When portfolio price is above its own moving average curve, long the position\n",
    "* When portfolio price is lower its own moving average curve, close the position"
   ]
  },
  {
   "cell_type": "code",
   "execution_count": null,
   "id": "50513301-29c7-4db0-a2ec-1051a8d8e9fc",
   "metadata": {
    "tags": []
   },
   "outputs": [],
   "source": [
    "\"\"\"\n",
    "    Helper function to run different days moving average strategy.\n",
    "\n",
    "    Args:\n",
    "        days (int): How many days for the moving average calculation\n",
    "        df_price (DataFrame): Stocks prices DataFrame\n",
    "        df_rtn (DataFrame): Stocks portfolio return DataFrame        \n",
    "\"\"\"\n",
    "def strategy_ma(days, df_price, df_rtn):\n",
    "    \n",
    "    if days < 21:\n",
    "        df_price[f\"ema_{days}\"] = df_price['Portfolio'].ewm(span = days, adjust = False, min_periods = days).mean()\n",
    "        \n",
    "        df_price[f\"pos_ema_{days}\"] = (df_price['Portfolio'] > df_price[f\"ema_{days}\"]).astype(int)\n",
    "        \n",
    "        nums_trades = sum((df_price[f\"pos_ema_{days}\"] == 1) & (df_price[f\"pos_ema_{days}\"].shift(1) == 0))\n",
    "        df_price[f\"ema_{days}_rtn\"] = df_price[f\"pos_ema_{days}\"].shift(1) * df_rtn\n",
    "        df_price[f\"ema_{days}_cum_rtn\"] = df_price[f\"ema_{days}_rtn\"].cumsum().apply(np.exp)\n",
    "        \n",
    "        print(f\"{nums_trades} trades in this strategy\")\n",
    "        \n",
    "        return df_price[f\"ema_{days}_cum_rtn\"].hvplot(ylabel = 'Cumulative Return', \n",
    "                                                      title = f\"Cumulative of EMA {days} Strategy Return\")\n",
    "    \n",
    "    \n",
    "    else:\n",
    "        df_price[f\"ma_{days}\"] = df_price['Portfolio'].rolling(window = days).mean()\n",
    "        df_price[f\"pos_ma_{days}\"] = (df_price['Portfolio'] > df_price[f\"ma_{days}\"]).astype(int)\n",
    "        nums_trades = sum((df_price[f\"pos_ma_{days}\"] == 1) & (df_price[f\"pos_ma_{days}\"].shift(1) == 0))\n",
    "        df_price[f\"ma_{days}_rtn\"] = df_price[f\"pos_ma_{days}\"].shift(1) * df_rtn\n",
    "        df_price[f\"ma_{days}_cum_rtn\"] = df_price[f\"ma_{days}_rtn\"].cumsum().apply(np.exp)\n",
    "        \n",
    "        print(f\"{nums_trades} trades in this strategy\")\n",
    "        \n",
    "        return df_price[f\"ma_{days}_cum_rtn\"].hvplot(ylabel = 'Cumulative Return', \n",
    "                                                      title = f\"Cumulative of MA {days} Strategy Return\")\n",
    "    "
   ]
  },
  {
   "cell_type": "markdown",
   "id": "624e04da-2de6-49cc-bda6-8cea58ab02c1",
   "metadata": {
    "jp-MarkdownHeadingCollapsed": true,
    "tags": []
   },
   "source": [
    "### 6.1.1 Different MA Performance Analysis"
   ]
  },
  {
   "cell_type": "markdown",
   "id": "104626a1-652c-465a-badc-bdc36e2bcb2d",
   "metadata": {
    "jp-MarkdownHeadingCollapsed": true,
    "tags": []
   },
   "source": [
    "#### 6.1.1.1 Filter 1"
   ]
  },
  {
   "cell_type": "code",
   "execution_count": null,
   "id": "c6a8f48c-c2d2-41ea-bc28-7a0367ee162b",
   "metadata": {
    "tags": []
   },
   "outputs": [],
   "source": [
    "# Get the portfolio's close price\n",
    "\n",
    "portfolio_prices_1 = stocks_close[portfolio_1] * weights_1[max_sharpe_ind_1]\n",
    "portfolio_prices_1['Portfolio'] = portfolio_prices_1.sum(axis = 1)"
   ]
  },
  {
   "cell_type": "code",
   "execution_count": null,
   "id": "14a93a88-7bb5-46f0-8c0e-67e30f61d53a",
   "metadata": {
    "tags": []
   },
   "outputs": [],
   "source": [
    "f1_ema_8_plot = strategy_ma(8, portfolio_prices_1, portfolio_rtn_1['Portfolio'])\n",
    "f1_ema_8_plot"
   ]
  },
  {
   "cell_type": "code",
   "execution_count": null,
   "id": "5e7bef74-d266-4309-922a-8c6a1335bbde",
   "metadata": {
    "tags": []
   },
   "outputs": [],
   "source": [
    "f1_ema_20_plot = strategy_ma(20, portfolio_prices_1, portfolio_rtn_1['Portfolio'])\n",
    "f1_ema_20_plot"
   ]
  },
  {
   "cell_type": "code",
   "execution_count": null,
   "id": "14edcf01-daad-4964-ab17-1d8b714ba9b1",
   "metadata": {
    "tags": []
   },
   "outputs": [],
   "source": [
    "f1_ma_50_plot = strategy_ma(50, portfolio_prices_1, portfolio_rtn_1['Portfolio'])\n",
    "f1_ma_50_plot"
   ]
  },
  {
   "cell_type": "code",
   "execution_count": null,
   "id": "3b37e0f9-3df5-46a0-8556-bb1f7c525ac1",
   "metadata": {
    "tags": []
   },
   "outputs": [],
   "source": [
    "f1_ma_200_plot = strategy_ma(200, portfolio_prices_1, portfolio_rtn_1['Portfolio'])\n",
    "f1_ma_200_plot"
   ]
  },
  {
   "cell_type": "code",
   "execution_count": null,
   "id": "5991b848-0fb9-4a31-b8f2-e9c7642de618",
   "metadata": {
    "tags": []
   },
   "outputs": [],
   "source": [
    "(port_1_plot * btc_plot * f1_ema_8_plot * f1_ema_20_plot * f1_ma_50_plot * f1_ma_200_plot).opts(title = 'Performance Comparison with Filter 1 and BTC', \n",
    "                                                                               width = 900, height = 400, legend_position = 'bottom_left')"
   ]
  },
  {
   "cell_type": "markdown",
   "id": "5d77c4a4-2c24-4329-96b8-aec8a21edbc2",
   "metadata": {
    "jp-MarkdownHeadingCollapsed": true,
    "tags": []
   },
   "source": [
    "#### 6.1.1.2 Filter 2"
   ]
  },
  {
   "cell_type": "code",
   "execution_count": null,
   "id": "de9fe3b0-e1fc-47d6-8e29-8cbb337a3adb",
   "metadata": {
    "tags": []
   },
   "outputs": [],
   "source": [
    "# Get the portfolio's close price\n",
    "\n",
    "portfolio_prices_2 = stocks_close[portfolio_2] * weights_2[max_sharpe_ind_2]\n",
    "portfolio_prices_2['Portfolio'] = portfolio_prices_2.sum(axis = 1)"
   ]
  },
  {
   "cell_type": "code",
   "execution_count": null,
   "id": "1e7acdb3-328b-40de-9233-806b10e26c9a",
   "metadata": {
    "tags": []
   },
   "outputs": [],
   "source": [
    "f2_ema_8_plot = strategy_ma(8, portfolio_prices_2, portfolio_rtn_2['Portfolio'])\n",
    "f2_ema_8_plot"
   ]
  },
  {
   "cell_type": "code",
   "execution_count": null,
   "id": "3d537e7e-5829-4ef4-856e-0907c71fa403",
   "metadata": {
    "tags": []
   },
   "outputs": [],
   "source": [
    "f2_ema_20_plot = strategy_ma(20, portfolio_prices_2, portfolio_rtn_2['Portfolio'])\n",
    "f2_ema_20_plot"
   ]
  },
  {
   "cell_type": "code",
   "execution_count": null,
   "id": "6f017c0e-dfe1-4fa6-a859-5bafe5ede886",
   "metadata": {
    "tags": []
   },
   "outputs": [],
   "source": [
    "f2_ma_50_plot = strategy_ma(50, portfolio_prices_2, portfolio_rtn_2['Portfolio'])\n",
    "f2_ma_50_plot"
   ]
  },
  {
   "cell_type": "code",
   "execution_count": null,
   "id": "8bf0428d-f153-48b5-bd40-99a1a35c558d",
   "metadata": {
    "tags": []
   },
   "outputs": [],
   "source": [
    "f2_ma_200_plot = strategy_ma(200, portfolio_prices_2, portfolio_rtn_2['Portfolio'])\n",
    "f2_ma_200_plot"
   ]
  },
  {
   "cell_type": "code",
   "execution_count": null,
   "id": "23fdeafc-9f52-4f15-b056-eea84df320e6",
   "metadata": {
    "tags": []
   },
   "outputs": [],
   "source": [
    "(port_2_plot * btc_plot * f2_ema_8_plot * f2_ema_20_plot * f2_ma_50_plot * f2_ma_200_plot).opts(title = 'Performance Comparison with Filter 2 and BTC', \n",
    "                                                                               width = 900, height = 400, legend_position = 'bottom_left')"
   ]
  },
  {
   "cell_type": "markdown",
   "id": "594fe569-274e-4273-99a4-770026b5f726",
   "metadata": {
    "jp-MarkdownHeadingCollapsed": true,
    "tags": []
   },
   "source": [
    "#### 6.1.1.3 Filter 3"
   ]
  },
  {
   "cell_type": "code",
   "execution_count": null,
   "id": "a009c0a3-a991-414d-a4c4-0e7b9bdb60c1",
   "metadata": {
    "tags": []
   },
   "outputs": [],
   "source": [
    "# Get the portfolio's close price\n",
    "\n",
    "portfolio_prices_3 = stocks_close[portfolio_3] * weights_3[max_sharpe_ind_3]\n",
    "portfolio_prices_3['Portfolio'] = portfolio_prices_3.sum(axis = 1)"
   ]
  },
  {
   "cell_type": "code",
   "execution_count": null,
   "id": "167d1d8d-8f9c-46f0-ab73-4f002f1e59fe",
   "metadata": {
    "tags": []
   },
   "outputs": [],
   "source": [
    "f3_ema_8_plot = strategy_ma(8, portfolio_prices_3, portfolio_rtn_3['Portfolio'])\n",
    "f3_ema_8_plot"
   ]
  },
  {
   "cell_type": "code",
   "execution_count": null,
   "id": "928591d2-1b01-4c61-a7cd-86fab2509f9d",
   "metadata": {
    "tags": []
   },
   "outputs": [],
   "source": [
    "f3_ema_20_plot = strategy_ma(20, portfolio_prices_3, portfolio_rtn_3['Portfolio'])\n",
    "f3_ema_20_plot"
   ]
  },
  {
   "cell_type": "code",
   "execution_count": null,
   "id": "7a7b3250-de81-4063-99b6-859242ef031d",
   "metadata": {
    "tags": []
   },
   "outputs": [],
   "source": [
    "f3_ma_50_plot = strategy_ma(50, portfolio_prices_3, portfolio_rtn_3['Portfolio'])\n",
    "f3_ma_50_plot"
   ]
  },
  {
   "cell_type": "code",
   "execution_count": null,
   "id": "78eecea6-c520-4e6e-907b-0988cf8f431e",
   "metadata": {
    "tags": []
   },
   "outputs": [],
   "source": [
    "f3_ma_200_plot = strategy_ma(200, portfolio_prices_3, portfolio_rtn_3['Portfolio'])\n",
    "f3_ma_200_plot"
   ]
  },
  {
   "cell_type": "code",
   "execution_count": null,
   "id": "aa8a6681-142d-4af7-96fa-23269376fac5",
   "metadata": {
    "tags": []
   },
   "outputs": [],
   "source": [
    "(port_3_plot * btc_plot * f3_ema_8_plot * f3_ema_20_plot * f3_ma_50_plot * f3_ma_200_plot).opts(title = 'Performance Comparison with Filter 3 and BTC', \n",
    "                                                                               width = 900, height = 400, legend_position = 'bottom_left')"
   ]
  },
  {
   "cell_type": "markdown",
   "id": "6b7f4fd7-9877-492e-9403-2062c26faa27",
   "metadata": {
    "jp-MarkdownHeadingCollapsed": true,
    "tags": []
   },
   "source": [
    "#### 6.1.1.4 Filter 5"
   ]
  },
  {
   "cell_type": "code",
   "execution_count": null,
   "id": "9489b648-e070-4dde-825b-85311d15400b",
   "metadata": {
    "tags": []
   },
   "outputs": [],
   "source": [
    "# Get the portfolio's close price\n",
    "\n",
    "portfolio_prices_5 = stocks_close[portfolio_5] * weights_5[max_sharpe_ind_5]\n",
    "portfolio_prices_5['Portfolio'] = portfolio_prices_5.sum(axis = 1)"
   ]
  },
  {
   "cell_type": "code",
   "execution_count": null,
   "id": "d372fe7b-e9fe-4ae7-a9a6-483b2184070c",
   "metadata": {
    "tags": []
   },
   "outputs": [],
   "source": [
    "f5_ema_8_plot = strategy_ma(8, portfolio_prices_5, portfolio_rtn_5['Portfolio'])\n",
    "f5_ema_8_plot"
   ]
  },
  {
   "cell_type": "code",
   "execution_count": null,
   "id": "d56f678f-2c24-4c0d-8aaa-7b7c16ce686f",
   "metadata": {
    "tags": []
   },
   "outputs": [],
   "source": [
    "f5_ema_20_plot = strategy_ma(20, portfolio_prices_5, portfolio_rtn_5['Portfolio'])\n",
    "f5_ema_20_plot"
   ]
  },
  {
   "cell_type": "code",
   "execution_count": null,
   "id": "e416309e-a987-4f53-845c-ba4a6fa3a4f0",
   "metadata": {
    "tags": []
   },
   "outputs": [],
   "source": [
    "f5_ma_50_plot = strategy_ma(50, portfolio_prices_5, portfolio_rtn_5['Portfolio'])\n",
    "f5_ma_50_plot"
   ]
  },
  {
   "cell_type": "code",
   "execution_count": null,
   "id": "8296cb40-f129-4c83-9d1a-6877a9695623",
   "metadata": {
    "tags": []
   },
   "outputs": [],
   "source": [
    "f5_ma_200_plot = strategy_ma(200, portfolio_prices_5, portfolio_rtn_5['Portfolio'])\n",
    "f5_ma_200_plot"
   ]
  },
  {
   "cell_type": "code",
   "execution_count": null,
   "id": "977569f5-f578-461b-b42c-bc7328bf1a47",
   "metadata": {
    "tags": []
   },
   "outputs": [],
   "source": [
    "(port_5_plot * btc_plot * f5_ema_8_plot * f5_ema_20_plot * f5_ma_50_plot * f5_ma_200_plot).opts(title = 'Performance Comparison with Filter 5 and BTC', \n",
    "                                                                               width = 900, height = 400, legend_position = 'top_left')"
   ]
  },
  {
   "cell_type": "markdown",
   "id": "2285c8bb-67b5-4f09-b66a-663f4161a314",
   "metadata": {
    "jp-MarkdownHeadingCollapsed": true,
    "tags": []
   },
   "source": [
    "## 6.2 Trading strategy 2: (Hypothesis: BTC is the leading indicator)\n",
    "* When BTC price is above its moving average curve, long the position\n",
    "* When BTC price is lower its moving average curve, close the position"
   ]
  },
  {
   "cell_type": "code",
   "execution_count": null,
   "id": "6c5d255c-7252-4ad1-8bd9-d13b604964d5",
   "metadata": {
    "tags": []
   },
   "outputs": [],
   "source": [
    "\"\"\"\n",
    "    Helper function to run different days moving average strategy for BTC leading indicator.\n",
    "\n",
    "    Args:\n",
    "        days (int): How many days for the moving average calculation\n",
    "        df_price (DataFrame): Stocks prices DataFrame\n",
    "        df_rtn (DataFrame): Stocks portfolio return DataFrame\n",
    "        btc_df (DataFrame): BTC price DataFrame\n",
    "\"\"\"\n",
    "def strategy_ma_2(days, df_price, df_rtn, btc_df):\n",
    "    \n",
    "    \n",
    "    \n",
    "    if days < 21:\n",
    "        df_price[f\"ema_{days}\"] = df_price['Portfolio'].ewm(span = days, adjust = False, min_periods = days).mean()\n",
    "        \n",
    "        btc_df[f\"ema_{days}\"] = btc_df['BTC'].ewm(span = days, adjust = False, min_periods = days).mean()\n",
    "        \n",
    "        df_price[f\"pos_ema_{days}_2\"] = (btc_df['BTC'] > btc_df[f\"ema_{days}\"]).astype(int)\n",
    "        \n",
    "        nums_trades = sum(\n",
    "           \n",
    "            (df_price[f\"pos_ema_{days}_2\"] == 1) & (df_price[f\"pos_ema_{days}_2\"].shift(1) == 0)\n",
    "        )\n",
    "        \n",
    "        df_price[f\"ema_{days}_rtn_2\"] = df_price[f\"pos_ema_{days}_2\"].shift(1) * df_rtn\n",
    "        df_price[f\"ema_{days}_cum_rtn_2\"] = df_price[f\"ema_{days}_rtn_2\"].cumsum().apply(np.exp)\n",
    "        \n",
    "        print(f\"{nums_trades} trades in this strategy\")\n",
    "        \n",
    "        return df_price[f\"ema_{days}_cum_rtn_2\"].hvplot(ylabel = 'Cumulative Return', \n",
    "                                                      title = f\"Cumulative of EMA {days} Strategy Return Under BTC Leading\")\n",
    "    \n",
    "    \n",
    "    else:\n",
    "        df_price[f\"ma_{days}_2\"] = df_price['Portfolio'].rolling(window = days).mean()\n",
    "        \n",
    "        btc_df[f\"ma_{days}\"] = btc_df['BTC'].rolling(window = 20).mean()\n",
    "        df_price[f\"pos_ma_{days}_2\"] = (btc_df['BTC'] > btc_df[f\"ma_{days}\"]).astype(int)\n",
    "        nums_trades = sum((df_price[f\"pos_ma_{days}_2\"] == 1) & (df_price[f\"pos_ma_{days}_2\"].shift(1) == 0))\n",
    "        df_price[f\"ma_{days}_rtn_2\"] = df_price[f\"pos_ma_{days}_2\"].shift(1) * df_rtn\n",
    "        df_price[f\"ma_{days}_cum_rtn_2\"] = df_price[f\"ma_{days}_rtn_2\"].cumsum().apply(np.exp)\n",
    "        \n",
    "        print(f\"{nums_trades} trades in this strategy\")\n",
    "        \n",
    "        return df_price[f\"ma_{days}_cum_rtn_2\"].hvplot(ylabel = 'Cumulative Return', \n",
    "                                                      title = f\"Cumulative of MA {days} Strategy Return Under BTC Leading\")"
   ]
  },
  {
   "cell_type": "code",
   "execution_count": null,
   "id": "20c7b6a2-1696-4aac-852f-b5d1977f1ed2",
   "metadata": {
    "tags": []
   },
   "outputs": [],
   "source": [
    "# Create the BTC SMA 20 curve data\n",
    "\n",
    "btc_close['sma_20'] = btc_close.rolling(window = 20).mean()\n",
    "btc_close['sma_20']"
   ]
  },
  {
   "cell_type": "code",
   "execution_count": null,
   "id": "6eabcf85-505b-47f0-b8be-93ba2e72a44d",
   "metadata": {
    "tags": []
   },
   "outputs": [],
   "source": [
    "# Create trading signal as position\n",
    "\n",
    "portfolio_prices['position_btc_leading'] = (btc_close['BTC'] > btc_close['sma_20']).astype(int)\n",
    "portfolio_prices['position_btc_leading']"
   ]
  },
  {
   "cell_type": "code",
   "execution_count": null,
   "id": "e5ba59f6-4da0-4218-9aef-d51d0abc0b10",
   "metadata": {
    "tags": []
   },
   "outputs": [],
   "source": [
    "# Calculate the strategy return\n",
    "\n",
    "portfolio_prices['strategy_2_rtn'] = portfolio_prices['position_btc_leading'].shift(1) * portfolio_rtn['Portfolio']\n",
    "portfolio_prices['strategy_2_rtn']"
   ]
  },
  {
   "cell_type": "code",
   "execution_count": null,
   "id": "f7a5167d-f021-4edc-8cbd-859d11188370",
   "metadata": {
    "tags": []
   },
   "outputs": [],
   "source": [
    "# Calculate the cumulative return of the strategy\n",
    "\n",
    "portfolio_prices['strategy_2_cum_rtn'] = portfolio_prices['strategy_2_rtn'].cumsum().apply(np.exp)"
   ]
  },
  {
   "cell_type": "code",
   "execution_count": null,
   "id": "94ab6463-c167-44fa-86db-1f2d40627b63",
   "metadata": {
    "tags": []
   },
   "outputs": [],
   "source": [
    "# Plot the cumulative return of strategy\n",
    "\n",
    "strategy_2_plot = portfolio_prices['strategy_2_cum_rtn'].hvplot(ylabel = 'Cumulative Return', \n",
    "                                                            title = 'Cumulative Strategy Return')\n",
    "strategy_2_plot"
   ]
  },
  {
   "cell_type": "code",
   "execution_count": null,
   "id": "c94f2b18-7757-4621-815d-9f8be2cc6e99",
   "metadata": {
    "tags": []
   },
   "outputs": [],
   "source": [
    "#Combine the plots of portfolio, BTC and strategys return\n",
    "\n",
    "(port_plot * btc_plot * strategy_1_plot * strategy_2_plot).opts(title = 'Comparison with Portfolio, BTC and Strategys Return', \n",
    "                                                                 width = 900, height = 400, legend_position = 'top_left')"
   ]
  },
  {
   "cell_type": "code",
   "execution_count": null,
   "id": "b5d2ccf5-1bb7-4114-a0b0-a3966b247d3c",
   "metadata": {
    "tags": []
   },
   "outputs": [],
   "source": [
    "# Show how many times the portfolio trades over time\n",
    "\n",
    "sum((portfolio_prices['position_btc_leading'] == 1) & (portfolio_prices['position_btc_leading'].shift(1) == 0))"
   ]
  },
  {
   "cell_type": "code",
   "execution_count": null,
   "id": "9b867925-40d5-4823-99c2-babaf45d4692",
   "metadata": {},
   "outputs": [],
   "source": [
    "stocks_daily['Volume'].hvplot.bar()"
   ]
  },
  {
   "cell_type": "markdown",
   "id": "a66cfe21-d713-41b5-b5c7-0272a65d0028",
   "metadata": {
    "jp-MarkdownHeadingCollapsed": true,
    "tags": []
   },
   "source": [
    "### 6.2.1 Different MA Performance Analysis (BTC Leading Indicator)"
   ]
  },
  {
   "cell_type": "markdown",
   "id": "0879ccb4-fc0e-4eb4-b325-1cb8cfeb93f8",
   "metadata": {
    "jp-MarkdownHeadingCollapsed": true,
    "tags": []
   },
   "source": [
    "#### 6.2.1.1 Filter 1"
   ]
  },
  {
   "cell_type": "code",
   "execution_count": null,
   "id": "af0e349a-5436-4297-a1c8-4ad0a55f48f0",
   "metadata": {
    "tags": []
   },
   "outputs": [],
   "source": [
    "f1_ema_20_2_plot = strategy_ma_2(20, portfolio_prices_1, portfolio_rtn_1['Portfolio'], btc_close)\n",
    "f1_ema_20_2_plot"
   ]
  },
  {
   "cell_type": "code",
   "execution_count": null,
   "id": "13029517-1865-4bec-bbaa-b22c22fda5d0",
   "metadata": {
    "tags": []
   },
   "outputs": [],
   "source": [
    "f1_ema_8_2_plot = strategy_ma_2(8, portfolio_prices_1, portfolio_rtn_1['Portfolio'], btc_close)\n",
    "f1_ema_8_2_plot"
   ]
  },
  {
   "cell_type": "code",
   "execution_count": null,
   "id": "e6655f90-6900-4dba-a708-a076f36552f6",
   "metadata": {
    "tags": []
   },
   "outputs": [],
   "source": [
    "f1_ma_50_2_plot = strategy_ma_2(50, portfolio_prices_1, portfolio_rtn_1['Portfolio'], btc_close)\n",
    "f1_ma_50_2_plot"
   ]
  },
  {
   "cell_type": "code",
   "execution_count": null,
   "id": "608e125d-6b49-4802-93a5-38e6be870f6f",
   "metadata": {
    "tags": []
   },
   "outputs": [],
   "source": [
    "f1_ma_200_2_plot = strategy_ma_2(200, portfolio_prices_1, portfolio_rtn_1['Portfolio'], btc_close)\n",
    "f1_ma_200_2_plot"
   ]
  },
  {
   "cell_type": "code",
   "execution_count": null,
   "id": "4dce0496-a0c9-499b-81ef-427a84ee73ab",
   "metadata": {
    "tags": []
   },
   "outputs": [],
   "source": [
    "(f1_ema_8_plot * f1_ema_8_2_plot).opts(title = 'Comparison with Strategies EMA 8 For Filter 1', \n",
    "                                       width = 900, height = 400, legend_position = 'bottom_left')"
   ]
  },
  {
   "cell_type": "code",
   "execution_count": null,
   "id": "a286f024-8758-4853-b703-f54b8570813b",
   "metadata": {
    "tags": []
   },
   "outputs": [],
   "source": [
    "(f1_ema_20_plot * f1_ema_20_2_plot).opts(title = 'Comparison with Strategies EMA 20 For Filter 1', \n",
    "                                         width = 900, height = 400, legend_position = 'bottom_left')"
   ]
  },
  {
   "cell_type": "code",
   "execution_count": null,
   "id": "df52fbae-84e0-4f43-b8c1-95703a4df683",
   "metadata": {
    "tags": []
   },
   "outputs": [],
   "source": [
    "(f1_ma_50_plot * f1_ma_50_2_plot).opts(title = 'Comparison with Strategies MA50 For Filter 1', \n",
    "                                       width = 900, height = 400, legend_position = 'bottom_left')"
   ]
  },
  {
   "cell_type": "code",
   "execution_count": null,
   "id": "3c5a077d-b14f-4bf4-a440-237d1259b3d7",
   "metadata": {
    "tags": []
   },
   "outputs": [],
   "source": [
    "(f1_ma_200_plot * f1_ma_200_2_plot).opts(title = 'Comparison with Strategies MA200 For Filter 1', \n",
    "                                         width = 900, height = 400, legend_position = 'bottom_left')"
   ]
  },
  {
   "cell_type": "markdown",
   "id": "6f21ab87-855e-4bb9-a8f4-288c2357dc67",
   "metadata": {
    "jp-MarkdownHeadingCollapsed": true,
    "tags": []
   },
   "source": [
    "#### 6.2.1.2 Filter 2"
   ]
  },
  {
   "cell_type": "code",
   "execution_count": null,
   "id": "d63f6067-486a-41e4-a7ae-76d1c33b7a94",
   "metadata": {
    "tags": []
   },
   "outputs": [],
   "source": [
    "f2_ema_8_2_plot = strategy_ma_2(8, portfolio_prices_2, portfolio_rtn_2['Portfolio'], btc_close)\n",
    "f2_ema_8_2_plot"
   ]
  },
  {
   "cell_type": "code",
   "execution_count": null,
   "id": "7e50b70e-f4a2-49a2-897f-e733fd69512c",
   "metadata": {
    "tags": []
   },
   "outputs": [],
   "source": [
    "f2_ema_20_2_plot = strategy_ma_2(20, portfolio_prices_2, portfolio_rtn_2['Portfolio'], btc_close)\n",
    "f2_ema_20_2_plot"
   ]
  },
  {
   "cell_type": "code",
   "execution_count": null,
   "id": "397c9b3e-d78a-46a9-b069-d0a3cd3e3623",
   "metadata": {
    "tags": []
   },
   "outputs": [],
   "source": [
    "f2_ma_50_2_plot = strategy_ma_2(50, portfolio_prices_2, portfolio_rtn_2['Portfolio'], btc_close)\n",
    "f2_ma_50_2_plot"
   ]
  },
  {
   "cell_type": "code",
   "execution_count": null,
   "id": "4df7f0fa-9154-4bfa-ac75-b8ddee510beb",
   "metadata": {
    "tags": []
   },
   "outputs": [],
   "source": [
    "f2_ma_200_2_plot = strategy_ma_2(200, portfolio_prices_2, portfolio_rtn_2['Portfolio'], btc_close)\n",
    "f2_ma_200_2_plot"
   ]
  },
  {
   "cell_type": "code",
   "execution_count": null,
   "id": "2097aac0-e409-4874-8457-7a66e6f126be",
   "metadata": {
    "tags": []
   },
   "outputs": [],
   "source": [
    "(f2_ema_8_plot * f2_ema_8_2_plot).opts(title = 'Comparison with Strategies EMA 8 For Filter 2', \n",
    "                                       width = 900, height = 400, legend_position = 'bottom_left')"
   ]
  },
  {
   "cell_type": "code",
   "execution_count": null,
   "id": "89c2b0df-a7ea-4cdf-9ce7-8a4858789e5d",
   "metadata": {
    "tags": []
   },
   "outputs": [],
   "source": [
    "(f2_ema_20_plot * f2_ema_20_2_plot).opts(title = 'Comparison with Strategies EMA 20 For Filter 2', \n",
    "                                       width = 900, height = 400, legend_position = 'bottom_left')"
   ]
  },
  {
   "cell_type": "code",
   "execution_count": null,
   "id": "e6ba5e85-a273-4bda-94cf-1e9b5f2c4706",
   "metadata": {
    "tags": []
   },
   "outputs": [],
   "source": [
    "(f2_ma_50_plot * f2_ma_50_2_plot).opts(title = 'Comparison with Strategies MA50 For Filter 2', \n",
    "                                       width = 900, height = 400, legend_position = 'bottom_left')"
   ]
  },
  {
   "cell_type": "code",
   "execution_count": null,
   "id": "b354e304-0c29-4106-bbdf-644cfbbcf635",
   "metadata": {
    "tags": []
   },
   "outputs": [],
   "source": [
    "(f2_ma_200_plot * f2_ma_200_2_plot).opts(title = 'Comparison with Strategies MA200 For Filter 2', \n",
    "                                       width = 900, height = 400, legend_position = 'bottom_left')"
   ]
  },
  {
   "cell_type": "markdown",
   "id": "d34a5b6f-9207-4612-9d5c-6bc7b9d2a40c",
   "metadata": {
    "jp-MarkdownHeadingCollapsed": true,
    "tags": []
   },
   "source": [
    "#### 6.2.1.3 Filter 3"
   ]
  },
  {
   "cell_type": "code",
   "execution_count": null,
   "id": "18b1b175-1228-4548-8eb9-29fe99227af4",
   "metadata": {
    "tags": []
   },
   "outputs": [],
   "source": [
    "f3_ema_8_2_plot = strategy_ma_2(8, portfolio_prices_3, portfolio_rtn_3['Portfolio'], btc_close)\n",
    "f3_ema_8_2_plot"
   ]
  },
  {
   "cell_type": "code",
   "execution_count": null,
   "id": "bf264127-fe8b-4c68-adfe-45dd4fd8a69f",
   "metadata": {
    "tags": []
   },
   "outputs": [],
   "source": [
    "f3_ema_20_2_plot = strategy_ma_2(20, portfolio_prices_3, portfolio_rtn_3['Portfolio'], btc_close)\n",
    "f3_ema_20_2_plot"
   ]
  },
  {
   "cell_type": "code",
   "execution_count": null,
   "id": "6add580e-df21-4b28-99a3-002221bc592a",
   "metadata": {
    "tags": []
   },
   "outputs": [],
   "source": [
    "f3_ma_50_2_plot = strategy_ma_2(50, portfolio_prices_3, portfolio_rtn_3['Portfolio'], btc_close)\n",
    "f3_ma_50_2_plot"
   ]
  },
  {
   "cell_type": "code",
   "execution_count": null,
   "id": "fe7d261f-0a23-4fa1-b2b7-8286e82cdf04",
   "metadata": {
    "tags": []
   },
   "outputs": [],
   "source": [
    "f3_ma_200_2_plot = strategy_ma_2(200, portfolio_prices_3, portfolio_rtn_3['Portfolio'], btc_close)\n",
    "f3_ma_200_2_plot"
   ]
  },
  {
   "cell_type": "code",
   "execution_count": null,
   "id": "4e45fcfc-ea73-4601-b3b4-928baeec3566",
   "metadata": {
    "tags": []
   },
   "outputs": [],
   "source": [
    "(f3_ema_8_plot * f3_ema_8_2_plot).opts(title = 'Comparison with Strategies EMA 8 For Filter 3', \n",
    "                                       width = 900, height = 400, legend_position = 'bottom_left')"
   ]
  },
  {
   "cell_type": "code",
   "execution_count": null,
   "id": "9f1f52ea-cc01-404a-aa18-425c156ae2a4",
   "metadata": {
    "tags": []
   },
   "outputs": [],
   "source": [
    "(f3_ema_20_plot * f3_ema_20_2_plot).opts(title = 'Comparison with Strategies EMA 20 For Filter 3', \n",
    "                                       width = 900, height = 400, legend_position = 'bottom_left')"
   ]
  },
  {
   "cell_type": "code",
   "execution_count": null,
   "id": "0b1a5a0a-f595-47d2-ad8b-66ae67fb44c2",
   "metadata": {
    "tags": []
   },
   "outputs": [],
   "source": [
    "(f3_ma_50_plot * f3_ma_50_2_plot).opts(title = 'Comparison with Strategies MA50 For Filter 3', \n",
    "                                       width = 900, height = 400, legend_position = 'bottom_left')"
   ]
  },
  {
   "cell_type": "code",
   "execution_count": null,
   "id": "0811c0f6-9813-43d3-b1fe-8315ee68ae8d",
   "metadata": {
    "tags": []
   },
   "outputs": [],
   "source": [
    "(f3_ma_200_plot * f3_ma_200_2_plot).opts(title = 'Comparison with Strategies MA200 For Filter 3', \n",
    "                                       width = 900, height = 400, legend_position = 'bottom_left')"
   ]
  },
  {
   "cell_type": "markdown",
   "id": "236bd99f-1407-41e8-b97a-0a9a7178013e",
   "metadata": {
    "jp-MarkdownHeadingCollapsed": true,
    "tags": []
   },
   "source": [
    "#### 6.2.1.4 Filter 5"
   ]
  },
  {
   "cell_type": "code",
   "execution_count": null,
   "id": "d17747cb-01cf-427e-9f78-ffe18d67b748",
   "metadata": {
    "tags": []
   },
   "outputs": [],
   "source": [
    "f5_ema_8_2_plot = strategy_ma_2(8, portfolio_prices_5, portfolio_rtn_5['Portfolio'], btc_close)\n",
    "f5_ema_8_2_plot"
   ]
  },
  {
   "cell_type": "code",
   "execution_count": null,
   "id": "2c29ba52-66fc-4cb5-b206-77e1bc432694",
   "metadata": {
    "tags": []
   },
   "outputs": [],
   "source": [
    "f5_ema_20_2_plot = strategy_ma_2(20, portfolio_prices_5, portfolio_rtn_5['Portfolio'], btc_close)\n",
    "f5_ema_20_2_plot"
   ]
  },
  {
   "cell_type": "code",
   "execution_count": null,
   "id": "53c330ca-ab2c-4356-883d-1a45477eb372",
   "metadata": {
    "tags": []
   },
   "outputs": [],
   "source": [
    "f5_ma_50_2_plot = strategy_ma_2(50, portfolio_prices_5, portfolio_rtn_5['Portfolio'], btc_close)\n",
    "f5_ma_50_2_plot"
   ]
  },
  {
   "cell_type": "code",
   "execution_count": null,
   "id": "7f66f45b-cb87-45e9-99b0-daf7fc60e249",
   "metadata": {
    "tags": []
   },
   "outputs": [],
   "source": [
    "f5_ma_200_2_plot = strategy_ma_2(200, portfolio_prices_5, portfolio_rtn_5['Portfolio'], btc_close)\n",
    "f5_ma_200_2_plot"
   ]
  },
  {
   "cell_type": "code",
   "execution_count": null,
   "id": "2d92ca91-3209-4b65-a995-ff77baf5e8e4",
   "metadata": {
    "tags": []
   },
   "outputs": [],
   "source": [
    "(f5_ema_8_plot * f5_ema_8_2_plot).opts(title = 'Comparison with Strategies EMA 8 For Filter 5', \n",
    "                                       width = 900, height = 400, legend_position = 'top_left')"
   ]
  },
  {
   "cell_type": "code",
   "execution_count": null,
   "id": "a63775a7-2c65-4d4f-b294-0c07e135e9da",
   "metadata": {
    "tags": []
   },
   "outputs": [],
   "source": [
    "(f5_ema_20_plot * f5_ema_20_2_plot).opts(title = 'Comparison with Strategies EMA 20 For Filter 5', \n",
    "                                         width = 900, height = 400, legend_position = 'top_left')"
   ]
  },
  {
   "cell_type": "code",
   "execution_count": null,
   "id": "e63ecb21-2ef7-4c91-8537-0c1cf5b9fda2",
   "metadata": {
    "tags": []
   },
   "outputs": [],
   "source": [
    "(f5_ma_50_plot * f5_ma_50_2_plot).opts(title = 'Comparison with Strategies MA50 For Filter 5', \n",
    "                                       width = 900, height = 400, legend_position = 'top_left')"
   ]
  },
  {
   "cell_type": "code",
   "execution_count": null,
   "id": "e9e3945b-852e-44d2-8a8b-a356c71e3d0b",
   "metadata": {
    "tags": []
   },
   "outputs": [],
   "source": [
    "(f5_ma_200_plot * f5_ma_200_2_plot).opts(title = 'Comparison with Strategies MA200 For Filter 5', \n",
    "                                         width = 900, height = 400, legend_position = 'top_left')"
   ]
  },
  {
   "cell_type": "code",
   "execution_count": null,
   "id": "d1aa1dbc-b310-4678-a71b-06e4e5cc58da",
   "metadata": {},
   "outputs": [],
   "source": []
  }
 ],
 "metadata": {
  "kernelspec": {
   "display_name": "Python 3 (ipykernel)",
   "language": "python",
   "name": "python3"
  },
  "language_info": {
   "codemirror_mode": {
    "name": "ipython",
    "version": 3
   },
   "file_extension": ".py",
   "mimetype": "text/x-python",
   "name": "python",
   "nbconvert_exporter": "python",
   "pygments_lexer": "ipython3",
   "version": "3.10.13"
  }
 },
 "nbformat": 4,
 "nbformat_minor": 5
}
